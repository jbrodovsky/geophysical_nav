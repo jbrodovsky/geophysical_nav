{
 "cells": [
  {
   "cell_type": "markdown",
   "metadata": {},
   "source": [
    "# Deep Water Bathymetric Particle Filter Experiment\n",
    "\n",
    "This notebook runs the experiment testing the capabilities of the particle filter to conduct navigation using deep water bathymetry and for long duration.\n",
    "\n",
    "## Data set preparation\n",
    "\n",
    "First need to process the .m77t files in `source_data` into our database format."
   ]
  },
  {
   "cell_type": "code",
   "execution_count": 5,
   "metadata": {},
   "outputs": [],
   "source": [
    "from src import process_dataset as pdset\n",
    "import os\n",
    "import pandas as pd"
   ]
  },
  {
   "cell_type": "markdown",
   "metadata": {},
   "source": [
    "### Preprocess tracklines into sql/df format"
   ]
  },
  {
   "cell_type": "code",
   "execution_count": 6,
   "metadata": {},
   "outputs": [
    {
     "name": "stdout",
     "output_type": "stream",
     "text": [
      "Skipping file: ew0114.m77t (already processed)\n",
      "Skipping file: wi933014.m77t (already processed)\n",
      "Skipping file: ew0102.m77t (already processed)\n",
      "Skipping file: 78123006.m77t (already processed)\n",
      "Skipping file: ew0112.m77t (already processed)\n",
      "Skipping file: ew0007.m77t (already processed)\n",
      "Skipping file: index17.m77t (already processed)\n",
      "Skipping file: ew9704.m77t (already processed)\n"
     ]
    }
   ],
   "source": [
    "# Check to see if the database exists\n",
    "if not os.path.exists('.db/tracklines.db'):\n",
    "    tables = []\n",
    "else:\n",
    "    tables = pdset.get_tables('.db/tracklines.db')\n",
    "\n",
    "source_data_location = \"./source_data/\"\n",
    "# walk through the .m77t files in the source_data directory\n",
    "for root, dirs, files in os.walk(source_data_location):\n",
    "    for file in files:\n",
    "        if file.endswith(\".m77t\"):\n",
    "            # check to see if the file has already been processed\n",
    "            filename = os.path.splitext(file)[0]\n",
    "            if filename not in tables:\n",
    "                print(\"Processing file: \" + file)\n",
    "                data = pd.read_csv(os.path.join(root, file), delimiter=\"\\t\", header=0)\n",
    "                data = pdset.m77t_to_df(data)\n",
    "                # data.to_sql(\n",
    "                #    filename, sqlite3.connect(\".db/tracklines.db\"), if_exists=\"replace\"\n",
    "                # )\n",
    "                pdset.save_dataset(\n",
    "                    [data],\n",
    "                    [filename],\n",
    "                    output_location=\".db\",\n",
    "                    output_format=\"db\",\n",
    "                    dataset_name=\"tracklines\",\n",
    "                )\n",
    "            else:\n",
    "                print(\"Skipping file: \" + file + \" (already processed)\")"
   ]
  },
  {
   "cell_type": "markdown",
   "metadata": {},
   "source": [
    "### Parse the raw data into tracklines of continuous data collections"
   ]
  },
  {
   "cell_type": "code",
   "execution_count": 7,
   "metadata": {},
   "outputs": [
    {
     "name": "stdout",
     "output_type": "stream",
     "text": [
      "Processing: ew0114\n",
      "Processing: wi933014\n",
      "Processing: ew0102\n",
      "Processing: 78123006\n",
      "Processing: ew0112\n",
      "Processing: ew0007\n",
      "Processing: index17\n",
      "Processing: ew9704\n"
     ]
    }
   ],
   "source": [
    "max_time = 10 # minutes\n",
    "max_delta_t = 2 # minutes between points\n",
    "min_duration = 60 # minutes, minimum duration for a useful trackline\n",
    "\n",
    "data, names = pdset.parse_tracklines_from_db(\n",
    "    \".db/tracklines.db\",\n",
    "    #max_time,\n",
    "    #max_delta_t,\n",
    "    #min_duration,\n",
    "    data_types=[\n",
    "        \"bathy\",\n",
    "        \"mag\",\n",
    "        \"grav\",\n",
    "        [\"bathy\", \"mag\"],\n",
    "        [\"bathy\", \"grav\"],\n",
    "        [\"grav\", \"mag\"],\n",
    "        [\"bathy\", \"grav\", \"mag\"],\n",
    "    ],\n",
    ")\n",
    "# Save the parsed data to the database\n",
    "pdset.save_dataset(\n",
    "    data, names, output_location=\".db\", output_format=\"db\", dataset_name=\"parsed\"\n",
    ")\n",
    "#summary = pdset.get_parsed_data_summary(data, names)"
   ]
  },
  {
   "cell_type": "markdown",
   "metadata": {},
   "source": [
    "## Simulation parameters verification\n",
    "\n",
    "First we need to tune the particle filter propagation noise to be similar to that of a marine-grade inertial navigation system. A low-end marine-grade INS should have a drift of 1 nm per 24 hours."
   ]
  },
  {
   "cell_type": "code",
   "execution_count": 8,
   "metadata": {},
   "outputs": [
    {
     "name": "stdout",
     "output_type": "stream",
     "text": [
      "RMSE: 1852.9770557242362\n"
     ]
    }
   ],
   "source": [
    "from src.particle_filter import rmse, propagate\n",
    "import numpy as np\n",
    "\n",
    "time = 24*60 # minutes\n",
    "noise = np.array([0, 2.6, 0])\n",
    "bound = 1852 # meters\n",
    "\n",
    "errors = []\n",
    "for v in range(1, 26):\n",
    "    P = np.asarray([[0,0,0,0,v,0]])\n",
    "    T = P.copy()\n",
    "    t = 0\n",
    "    for i in range(10000):\n",
    "        # Eastward\n",
    "        u = [0,v,0]\n",
    "        while t < time:    \n",
    "            P = propagate(P, u, noise=np.diag(noise), noise_calibration_mode=True)\n",
    "            T = propagate(T, u, noise=np.diag([0,0,0]), noise_calibration_mode=False)\n",
    "            t+=1\n",
    "        errors.append(rmse(P, T[0, :2]))\n",
    "        # Northward\n",
    "        u = [v,0,0]\n",
    "        while t < time:    \n",
    "            P = propagate(P, u, noise=np.diag(noise), noise_calibration_mode=True)\n",
    "            T = propagate(T, u, noise=np.diag([0,0,0]), noise_calibration_mode=False)\n",
    "            t+=1\n",
    "        errors.append(rmse(P, T[0, :2]))\n",
    "        # Northeastward \n",
    "        u = np.array([1,1,0]) / np.linalg.norm([1,1,0])\n",
    "        u *= v\n",
    "        while t < time:    \n",
    "            P = propagate(P, u, noise=np.diag(noise), noise_calibration_mode=True)\n",
    "            T = propagate(T, u, noise=np.diag([0,0,0]), noise_calibration_mode=False)\n",
    "            t+=1\n",
    "        errors.append(rmse(P, T[0, :2]))\n",
    "\n",
    "print(f\"RMSE: {np.mean(errors)}\")"
   ]
  },
  {
   "cell_type": "code",
   "execution_count": 9,
   "metadata": {},
   "outputs": [
    {
     "data": {
      "image/png": "[encoded data removed]",
      "text/plain": [
       "<Figure size 640x480 with 1 Axes>"
      ]
     },
     "metadata": {},
     "output_type": "display_data"
    }
   ],
   "source": [
    "from matplotlib import pyplot as plt\n",
    "\n",
    "plt.hist(errors, bins=50)\n",
    "plt.xlabel(\"RMSE (m)\")\n",
    "plt.ylabel(\"Frequency\")\n",
    "plt.title(\"RMSE of Particle Filter\")\n",
    "plt.savefig(\".db/plots/propagation_tuning.png\")\n",
    "plt.show()"
   ]
  },
  {
   "cell_type": "code",
   "execution_count": 10,
   "metadata": {},
   "outputs": [],
   "source": [
    "config = {\"velocity_noise\": [noise[1], noise[1], 0]}"
   ]
  },
  {
   "cell_type": "markdown",
   "metadata": {},
   "source": [
    "Next we need to develop the measurement value standard deviation. We'll first do some general examination of the data. Namely, investigating the sensor measurements to see if we can build a reasonable sensor model."
   ]
  },
  {
   "cell_type": "code",
   "execution_count": 11,
   "metadata": {},
   "outputs": [
    {
     "data": {
      "image/png": "[encoded data removed]",
      "text/plain": [
       "<Figure size 640x480 with 1 Axes>"
      ]
     },
     "metadata": {},
     "output_type": "display_data"
    }
   ],
   "source": [
    "from src.gmt_tool import inflate_bounds, get_map_section, get_map_point\n",
    "import numpy as np\n",
    "\n",
    "tables = pdset.get_tables(\".db/parsed.db\")\n",
    "bathy_tables = [table for table in tables if \"_D_\" in table]\n",
    "\n",
    "d_bathy = np.array([])\n",
    "\n",
    "for table in bathy_tables:\n",
    "    data = pdset.table_to_df(\".db/parsed.db\", table)\n",
    "    min_lon = data.LON.min()\n",
    "    max_lon = data.LON.max()\n",
    "    min_lat = data.LAT.min()\n",
    "    max_lat = data.LAT.max()\n",
    "    min_lon, min_lat, max_lon, max_lat = inflate_bounds(min_lon, min_lat, max_lon, max_lat, 0.25)\n",
    "    bathy_map = get_map_section(min_lon, max_lon, min_lat, max_lat, 'relief', '15s', \"temp\")\n",
    "    d_bathy = np.hstack([d_bathy, data['DEPTH'] - (-get_map_point(bathy_map, data.LON, data.LAT))])\n",
    "\n",
    "config['bathy_mean_d'] = np.mean(d_bathy, where=~np.isnan(d_bathy))\n",
    "config['bathy_std'] = np.std(d_bathy, where=~np.isnan(d_bathy))\n",
    "\n",
    "plt.hist(d_bathy, bins=100)\n",
    "plt.xlim([-250,250])\n",
    "plt.xlabel(\"Depth Difference (m)\")\n",
    "plt.ylabel(\"Frequency\")\n",
    "plt.title(\"Bathymetry Difference\")\n",
    "plt.savefig(\".db/plots/bathy_diff.png\")\n",
    "plt.show()"
   ]
  },
  {
   "cell_type": "code",
   "execution_count": 12,
   "metadata": {},
   "outputs": [],
   "source": [
    "import json\n",
    "\n",
    "with open(\"config.json\", \"w\") as f:\n",
    "    json.dump(config, f)"
   ]
  },
  {
   "cell_type": "markdown",
   "metadata": {},
   "source": [
    "### Populate with velocities"
   ]
  },
  {
   "cell_type": "code",
   "execution_count": 13,
   "metadata": {},
   "outputs": [],
   "source": [
    "from src.particle_filter import process_particle_filter, populate_velocities, plot_error, plot_estimate, summarize_results\n",
    "import json\n",
    "import src.process_dataset as pdset\n",
    "from tqdm import tqdm\n",
    "import pandas as pd\n",
    "import os"
   ]
  },
  {
   "cell_type": "code",
   "execution_count": 14,
   "metadata": {},
   "outputs": [],
   "source": [
    "tables = pdset.get_tables(\".db/parsed.db\")\n",
    "bathy_tables = [table for table in tables if \"_D_\" in table]\n",
    "config = json.load(open(\"config.json\", \"r\"))\n",
    "config[\"n\"] = 10000\n",
    "config[\"cov\"] = [1/60, 1/60, 0, config[\"velocity_noise\"][0], config[\"velocity_noise\"][1], 0]\n",
    "\n",
    "with open(\"config.json\", \"w\") as f:\n",
    "    json.dump(config, f)"
   ]
  },
  {
   "cell_type": "code",
   "execution_count": 15,
   "metadata": {},
   "outputs": [
    {
     "data": {
      "text/plain": [
       "{'velocity_noise': [2.6, 2.6, 0],\n",
       " 'bathy_mean_d': 21.285045267468078,\n",
       " 'bathy_std': 215.01077619593897,\n",
       " 'n': 10000,\n",
       " 'cov': [0.016666666666666666, 0.016666666666666666, 0, 2.6, 2.6, 0]}"
      ]
     },
     "execution_count": 15,
     "metadata": {},
     "output_type": "execute_result"
    }
   ],
   "source": [
    "config"
   ]
  },
  {
   "cell_type": "code",
   "execution_count": 16,
   "metadata": {},
   "outputs": [
    {
     "name": "stderr",
     "output_type": "stream",
     "text": [
      "  0%|          | 1/247 [00:14<1:01:16, 14.94s/it]/home/james/research_workspace/geophysical_nav/src/particle_filter.py:106: RuntimeWarning: invalid value encountered in divide\n",
      "  new_weights = w / w_sum\n",
      "/home/james/miniconda3/envs/nav/lib/python3.11/site-packages/filterpy/monte_carlo/resampling.py:61: RuntimeWarning: invalid value encountered in cast\n",
      "  num_copies = (np.floor(N*np.asarray(weights))).astype(int)\n",
      "  1%|          | 2/247 [36:42<87:59:45, 1293.00s/it]/home/james/research_workspace/geophysical_nav/src/particle_filter.py:106: RuntimeWarning: invalid value encountered in divide\n",
      "  new_weights = w / w_sum\n",
      "/home/james/miniconda3/envs/nav/lib/python3.11/site-packages/filterpy/monte_carlo/resampling.py:61: RuntimeWarning: invalid value encountered in cast\n",
      "  num_copies = (np.floor(N*np.asarray(weights))).astype(int)\n",
      "  1%|          | 3/247 [56:13<83:52:22, 1237.47s/it]/home/james/research_workspace/geophysical_nav/src/particle_filter.py:106: RuntimeWarning: invalid value encountered in divide\n",
      "  new_weights = w / w_sum\n",
      "/home/james/miniconda3/envs/nav/lib/python3.11/site-packages/filterpy/monte_carlo/resampling.py:61: RuntimeWarning: invalid value encountered in cast\n",
      "  num_copies = (np.floor(N*np.asarray(weights))).astype(int)\n",
      "  2%|▏         | 4/247 [58:34<54:17:07, 804.23s/it] /home/james/research_workspace/geophysical_nav/src/particle_filter.py:106: RuntimeWarning: invalid value encountered in divide\n",
      "  new_weights = w / w_sum\n",
      "/home/james/miniconda3/envs/nav/lib/python3.11/site-packages/filterpy/monte_carlo/resampling.py:61: RuntimeWarning: invalid value encountered in cast\n",
      "  num_copies = (np.floor(N*np.asarray(weights))).astype(int)\n",
      "  2%|▏         | 5/247 [1:05:30<44:39:01, 664.22s/it]/home/james/research_workspace/geophysical_nav/src/particle_filter.py:106: RuntimeWarning: invalid value encountered in divide\n",
      "  new_weights = w / w_sum\n",
      "/home/james/miniconda3/envs/nav/lib/python3.11/site-packages/filterpy/monte_carlo/resampling.py:61: RuntimeWarning: invalid value encountered in cast\n",
      "  num_copies = (np.floor(N*np.asarray(weights))).astype(int)\n",
      "  2%|▏         | 6/247 [1:07:14<31:44:11, 474.07s/it]/home/james/research_workspace/geophysical_nav/src/particle_filter.py:106: RuntimeWarning: invalid value encountered in divide\n",
      "  new_weights = w / w_sum\n",
      "/home/james/miniconda3/envs/nav/lib/python3.11/site-packages/filterpy/monte_carlo/resampling.py:61: RuntimeWarning: invalid value encountered in cast\n",
      "  num_copies = (np.floor(N*np.asarray(weights))).astype(int)\n",
      "  3%|▎         | 7/247 [1:22:37<41:23:05, 620.77s/it]/home/james/research_workspace/geophysical_nav/src/particle_filter.py:106: RuntimeWarning: invalid value encountered in divide\n",
      "  new_weights = w / w_sum\n",
      "/home/james/miniconda3/envs/nav/lib/python3.11/site-packages/filterpy/monte_carlo/resampling.py:61: RuntimeWarning: invalid value encountered in cast\n",
      "  num_copies = (np.floor(N*np.asarray(weights))).astype(int)\n",
      "  3%|▎         | 8/247 [1:24:19<30:14:00, 455.40s/it]/home/james/research_workspace/geophysical_nav/src/particle_filter.py:106: RuntimeWarning: invalid value encountered in divide\n",
      "  new_weights = w / w_sum\n",
      "/home/james/miniconda3/envs/nav/lib/python3.11/site-packages/filterpy/monte_carlo/resampling.py:61: RuntimeWarning: invalid value encountered in cast\n",
      "  num_copies = (np.floor(N*np.asarray(weights))).astype(int)\n",
      "  4%|▎         | 9/247 [1:25:57<22:43:48, 343.82s/it]/home/james/research_workspace/geophysical_nav/src/particle_filter.py:106: RuntimeWarning: invalid value encountered in divide\n",
      "  new_weights = w / w_sum\n",
      "/home/james/miniconda3/envs/nav/lib/python3.11/site-packages/filterpy/monte_carlo/resampling.py:61: RuntimeWarning: invalid value encountered in cast\n",
      "  num_copies = (np.floor(N*np.asarray(weights))).astype(int)\n",
      "  4%|▍         | 10/247 [1:27:33<17:35:16, 267.16s/it]/home/james/research_workspace/geophysical_nav/src/particle_filter.py:106: RuntimeWarning: invalid value encountered in divide\n",
      "  new_weights = w / w_sum\n",
      "/home/james/miniconda3/envs/nav/lib/python3.11/site-packages/filterpy/monte_carlo/resampling.py:61: RuntimeWarning: invalid value encountered in cast\n",
      "  num_copies = (np.floor(N*np.asarray(weights))).astype(int)\n",
      "  4%|▍         | 11/247 [1:29:11<14:07:59, 215.59s/it]/home/james/research_workspace/geophysical_nav/src/particle_filter.py:106: RuntimeWarning: invalid value encountered in divide\n",
      "  new_weights = w / w_sum\n",
      "/home/james/miniconda3/envs/nav/lib/python3.11/site-packages/filterpy/monte_carlo/resampling.py:61: RuntimeWarning: invalid value encountered in cast\n",
      "  num_copies = (np.floor(N*np.asarray(weights))).astype(int)\n",
      "  5%|▍         | 12/247 [1:30:49<11:44:01, 179.75s/it]/home/james/research_workspace/geophysical_nav/src/particle_filter.py:106: RuntimeWarning: invalid value encountered in divide\n",
      "  new_weights = w / w_sum\n",
      "/home/james/miniconda3/envs/nav/lib/python3.11/site-packages/filterpy/monte_carlo/resampling.py:61: RuntimeWarning: invalid value encountered in cast\n",
      "  num_copies = (np.floor(N*np.asarray(weights))).astype(int)\n",
      "  5%|▌         | 13/247 [1:32:27<10:04:23, 154.97s/it]/home/james/research_workspace/geophysical_nav/src/particle_filter.py:106: RuntimeWarning: invalid value encountered in divide\n",
      "  new_weights = w / w_sum\n",
      "/home/james/miniconda3/envs/nav/lib/python3.11/site-packages/filterpy/monte_carlo/resampling.py:61: RuntimeWarning: invalid value encountered in cast\n",
      "  num_copies = (np.floor(N*np.asarray(weights))).astype(int)\n",
      "  6%|▌         | 14/247 [1:34:09<9:00:14, 139.12s/it] /home/james/research_workspace/geophysical_nav/src/particle_filter.py:106: RuntimeWarning: invalid value encountered in divide\n",
      "  new_weights = w / w_sum\n",
      "/home/james/miniconda3/envs/nav/lib/python3.11/site-packages/filterpy/monte_carlo/resampling.py:61: RuntimeWarning: invalid value encountered in cast\n",
      "  num_copies = (np.floor(N*np.asarray(weights))).astype(int)\n",
      "  6%|▌         | 15/247 [1:35:47<8:09:59, 126.72s/it]/home/james/research_workspace/geophysical_nav/src/particle_filter.py:106: RuntimeWarning: invalid value encountered in divide\n",
      "  new_weights = w / w_sum\n",
      "/home/james/miniconda3/envs/nav/lib/python3.11/site-packages/filterpy/monte_carlo/resampling.py:61: RuntimeWarning: invalid value encountered in cast\n",
      "  num_copies = (np.floor(N*np.asarray(weights))).astype(int)\n",
      "  6%|▋         | 16/247 [1:37:21<7:29:17, 116.70s/it]/home/james/research_workspace/geophysical_nav/src/particle_filter.py:106: RuntimeWarning: invalid value encountered in divide\n",
      "  new_weights = w / w_sum\n",
      "/home/james/miniconda3/envs/nav/lib/python3.11/site-packages/filterpy/monte_carlo/resampling.py:61: RuntimeWarning: invalid value encountered in cast\n",
      "  num_copies = (np.floor(N*np.asarray(weights))).astype(int)\n"
     ]
    }
   ],
   "source": [
    "if not os.path.exists('.db/plots/estimate/'):\n",
    "    os.makedirs('.db/plots/estimate/')\n",
    "\n",
    "if not os.path.exists('.db/plots/errors/'):\n",
    "    os.makedirs('.db/plots/errors/')\n",
    "\n",
    "summary = None\n",
    "annotations = {\"recovery\": 1852, \"res\":1852/4}\n",
    "for table in tqdm(bathy_tables):\n",
    "    df = pdset.table_to_df(\".db/parsed.db\", table)\n",
    "    df = populate_velocities(df)\n",
    "    results, geo_map = process_particle_filter(df, config)\n",
    "    run = summarize_results(results, 1852)\n",
    "    run[\"Name\"] = table\n",
    "    pdset.save_dataset(\n",
    "        [results], [table], output_location=\".db\", output_format=\"db\", dataset_name=\"results\"\n",
    "    )\n",
    "    fig, ax = plot_estimate(geo_map, results)\n",
    "    fig.savefig(f\".db/plots/estimate/{table}_estimate.png\")\n",
    "    plt.close(fig)\n",
    "    fig, ax = plot_error(results, annotations=annotations)\n",
    "    fig.savefig(f\".db/plots/errors/{table}_error.png\")\n",
    "    plt.close(fig)"
   ]
  },
  {
   "cell_type": "code",
   "execution_count": null,
   "metadata": {},
   "outputs": [],
   "source": [
    "summary = None\n",
    "results_tables = pdset.get_tables(\".db/results.db\")\n",
    "for table in results_tables:\n",
    "    df = pdset.table_to_df(\".db/results.db\", table)\n",
    "    run = summarize_results(df, 1852)\n",
    "    run[\"Name\"] = table\n",
    "    if summary is None:\n",
    "        summary = run#.copy()\n",
    "    else:\n",
    "        summary = pd.concat([summary, run], ignore_index=True)\n",
    "    summary.to_csv(\".db/summary_recovery.csv\")"
   ]
  },
  {
   "cell_type": "code",
   "execution_count": null,
   "metadata": {},
   "outputs": [],
   "source": [
    "summary = None\n",
    "results_tables = pdset.get_tables(\".db/results.db\")\n",
    "for table in results_tables:\n",
    "    df = pdset.table_to_df(\".db/results.db\", table)\n",
    "    run = summarize_results(df, 452)\n",
    "    run[\"Name\"] = table\n",
    "    if summary is None:\n",
    "        summary = run#.copy()\n",
    "    else:\n",
    "        summary = pd.concat([summary, run], ignore_index=True)\n",
    "    summary.to_csv(\".db/summary_resolution.csv\")"
   ]
  },
  {
   "cell_type": "code",
   "execution_count": null,
   "metadata": {},
   "outputs": [],
   "source": []
  }
 ],
 "metadata": {
  "kernelspec": {
   "display_name": "nav",
   "language": "python",
   "name": "python3"
  },
  "language_info": {
   "codemirror_mode": {
    "name": "ipython",
    "version": 3
   },
   "file_extension": ".py",
   "mimetype": "text/x-python",
   "name": "python",
   "nbconvert_exporter": "python",
   "pygments_lexer": "ipython3",
   "version": "3.11.6"
  }
 },
 "nbformat": 4,
 "nbformat_minor": 2
}
