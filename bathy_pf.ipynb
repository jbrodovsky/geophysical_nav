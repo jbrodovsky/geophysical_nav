{
 "cells": [
  {
   "cell_type": "markdown",
   "metadata": {},
   "source": [
    "# Bathymetric particle filter \n",
    "\n",
    "This notebook is a testing and development environment for the geophysical particle filter. As of 30 December 2024 the initial implementation will be a velocity-state based implementation that does not do the proposed full state mechanization. The full state mechanization will be implemented in the future under a ROS2 and Gazebo simulation environment that allows for more realistic (and reliable) IMU simulation.\n",
    "\n",
    "This notebook is meant for interactive testing and development and should not be used for large-scale simulations. The intended workflow is to use the notebook to test and develop the particle filter on a small subsample of test data, then build and install it in the local virtual environment for use in the full simulation.\n",
    "\n",
    "This full simulation should then be written in the `/scripts` folder with result data saved off there."
   ]
  },
  {
   "cell_type": "markdown",
   "metadata": {},
   "source": [
    "## Simulation parameters verification\n",
    "\n",
    "First we need to tune the particle filter propagation noise to be similar to that of a marine-grade inertial navigation system. A low-end marine-grade INS should have a drift of 1 nm per 24 hours. Our typical time interval is 60 seconds and the noise parameters for velocities states need to be tuned based on this value."
   ]
  },
  {
   "cell_type": "code",
   "execution_count": 10,
   "metadata": {},
   "outputs": [],
   "source": [
    "from src.geophysical.particle_filter import propagate_ned, rmse\n",
    "import numpy as np\n",
    "\n",
    "def run_velocity_loop(u:np.ndarray, noise:np.ndarray, dt:float = 60.0, time:int = 24*60) -> float:\n",
    "    P = np.asarray([[0, 0, 0, u[0], u[1], u[2]]])\n",
    "    T = P.copy()\n",
    "    t = 0\n",
    "    while t < time:\n",
    "        P = propagate_ned(P, u, dt) #noise=np.diag(noise), noise_calibration_mode=True)\n",
    "        # Add zero-mean noise to the particles\n",
    "        P += np.random.multivariate_normal(np.zeros(6), np.diag(noise))\n",
    "        T = propagate_ned(T, u, dt) #noise=np.diag([0, 0, 0]), noise_calibration_mode=False)\n",
    "        t += 1\n",
    "    error = rmse(P, T, include_altitude=True)\n",
    "    return error"
   ]
  },
  {
   "cell_type": "code",
   "execution_count": 47,
   "metadata": {},
   "outputs": [],
   "source": [
    "from tqdm import tqdm\n",
    "import matplotlib.pyplot as plt"
   ]
  },
  {
   "cell_type": "code",
   "execution_count": 48,
   "metadata": {},
   "outputs": [
    {
     "name": "stdout",
     "output_type": "stream",
     "text": [
      "Running for 1 knots\n"
     ]
    },
    {
     "name": "stderr",
     "output_type": "stream",
     "text": [
      "100%|██████████| 1000/1000 [07:39<00:00,  2.18it/s]\n"
     ]
    },
    {
     "name": "stdout",
     "output_type": "stream",
     "text": [
      "Mean RMSE:  1901.31 meters\n",
      "Running for 2 knots\n"
     ]
    },
    {
     "name": "stderr",
     "output_type": "stream",
     "text": [
      "100%|██████████| 1000/1000 [07:01<00:00,  2.37it/s]\n"
     ]
    },
    {
     "name": "stdout",
     "output_type": "stream",
     "text": [
      "Mean RMSE:  1895.94 meters\n",
      "Running for 3 knots\n"
     ]
    },
    {
     "name": "stderr",
     "output_type": "stream",
     "text": [
      "100%|██████████| 1000/1000 [07:00<00:00,  2.38it/s]\n"
     ]
    },
    {
     "name": "stdout",
     "output_type": "stream",
     "text": [
      "Mean RMSE:  1887.02 meters\n",
      "Running for 4 knots\n"
     ]
    },
    {
     "name": "stderr",
     "output_type": "stream",
     "text": [
      "100%|██████████| 1000/1000 [07:01<00:00,  2.37it/s]\n"
     ]
    },
    {
     "name": "stdout",
     "output_type": "stream",
     "text": [
      "Mean RMSE:  1888.92 meters\n",
      "Running for 5 knots\n"
     ]
    },
    {
     "name": "stderr",
     "output_type": "stream",
     "text": [
      "100%|██████████| 1000/1000 [07:01<00:00,  2.37it/s]\n"
     ]
    },
    {
     "name": "stdout",
     "output_type": "stream",
     "text": [
      "Mean RMSE:  1890.85 meters\n",
      "Running for 6 knots\n"
     ]
    },
    {
     "name": "stderr",
     "output_type": "stream",
     "text": [
      "100%|██████████| 1000/1000 [07:00<00:00,  2.38it/s]\n"
     ]
    },
    {
     "name": "stdout",
     "output_type": "stream",
     "text": [
      "Mean RMSE:  1885.78 meters\n",
      "Running for 7 knots\n"
     ]
    },
    {
     "name": "stderr",
     "output_type": "stream",
     "text": [
      "100%|██████████| 1000/1000 [07:00<00:00,  2.38it/s]\n"
     ]
    },
    {
     "name": "stdout",
     "output_type": "stream",
     "text": [
      "Mean RMSE:  1887.33 meters\n",
      "Running for 8 knots\n"
     ]
    },
    {
     "name": "stderr",
     "output_type": "stream",
     "text": [
      "100%|██████████| 1000/1000 [06:52<00:00,  2.42it/s]\n"
     ]
    },
    {
     "name": "stdout",
     "output_type": "stream",
     "text": [
      "Mean RMSE:  1886.65 meters\n",
      "Running for 9 knots\n"
     ]
    },
    {
     "name": "stderr",
     "output_type": "stream",
     "text": [
      "100%|██████████| 1000/1000 [06:59<00:00,  2.38it/s]\n"
     ]
    },
    {
     "name": "stdout",
     "output_type": "stream",
     "text": [
      "Mean RMSE:  1886.63 meters\n",
      "Running for 10 knots\n"
     ]
    },
    {
     "name": "stderr",
     "output_type": "stream",
     "text": [
      "100%|██████████| 1000/1000 [06:57<00:00,  2.39it/s]\n"
     ]
    },
    {
     "name": "stdout",
     "output_type": "stream",
     "text": [
      "Mean RMSE:  1885.73 meters\n",
      "Running for 11 knots\n"
     ]
    },
    {
     "name": "stderr",
     "output_type": "stream",
     "text": [
      "100%|██████████| 1000/1000 [06:55<00:00,  2.41it/s]\n"
     ]
    },
    {
     "name": "stdout",
     "output_type": "stream",
     "text": [
      "Mean RMSE:  1883.85 meters\n",
      "Running for 12 knots\n"
     ]
    },
    {
     "name": "stderr",
     "output_type": "stream",
     "text": [
      "100%|██████████| 1000/1000 [06:53<00:00,  2.42it/s]\n"
     ]
    },
    {
     "name": "stdout",
     "output_type": "stream",
     "text": [
      "Mean RMSE:  1882.30 meters\n",
      "Running for 13 knots\n"
     ]
    },
    {
     "name": "stderr",
     "output_type": "stream",
     "text": [
      "100%|██████████| 1000/1000 [06:56<00:00,  2.40it/s]\n"
     ]
    },
    {
     "name": "stdout",
     "output_type": "stream",
     "text": [
      "Mean RMSE:  1882.90 meters\n",
      "Running for 14 knots\n"
     ]
    },
    {
     "name": "stderr",
     "output_type": "stream",
     "text": [
      "100%|██████████| 1000/1000 [07:02<00:00,  2.37it/s]\n"
     ]
    },
    {
     "name": "stdout",
     "output_type": "stream",
     "text": [
      "Mean RMSE:  1883.98 meters\n",
      "Running for 15 knots\n"
     ]
    },
    {
     "name": "stderr",
     "output_type": "stream",
     "text": [
      "100%|██████████| 1000/1000 [06:53<00:00,  2.42it/s]\n"
     ]
    },
    {
     "name": "stdout",
     "output_type": "stream",
     "text": [
      "Mean RMSE:  1885.90 meters\n",
      "Running for 16 knots\n"
     ]
    },
    {
     "name": "stderr",
     "output_type": "stream",
     "text": [
      "100%|██████████| 1000/1000 [06:53<00:00,  2.42it/s]\n"
     ]
    },
    {
     "name": "stdout",
     "output_type": "stream",
     "text": [
      "Mean RMSE:  1886.54 meters\n",
      "Running for 17 knots\n"
     ]
    },
    {
     "name": "stderr",
     "output_type": "stream",
     "text": [
      "100%|██████████| 1000/1000 [06:57<00:00,  2.40it/s]\n"
     ]
    },
    {
     "name": "stdout",
     "output_type": "stream",
     "text": [
      "Mean RMSE:  1886.62 meters\n",
      "Running for 18 knots\n"
     ]
    },
    {
     "name": "stderr",
     "output_type": "stream",
     "text": [
      "100%|██████████| 1000/1000 [06:52<00:00,  2.43it/s]\n"
     ]
    },
    {
     "name": "stdout",
     "output_type": "stream",
     "text": [
      "Mean RMSE:  1885.48 meters\n",
      "Running for 19 knots\n"
     ]
    },
    {
     "name": "stderr",
     "output_type": "stream",
     "text": [
      "100%|██████████| 1000/1000 [06:56<00:00,  2.40it/s]\n"
     ]
    },
    {
     "name": "stdout",
     "output_type": "stream",
     "text": [
      "Mean RMSE:  1885.32 meters\n",
      "Running for 20 knots\n"
     ]
    },
    {
     "name": "stderr",
     "output_type": "stream",
     "text": [
      "100%|██████████| 1000/1000 [06:56<00:00,  2.40it/s]\n"
     ]
    },
    {
     "name": "stdout",
     "output_type": "stream",
     "text": [
      "Mean RMSE:  1884.92 meters\n",
      "Running for 21 knots\n"
     ]
    },
    {
     "name": "stderr",
     "output_type": "stream",
     "text": [
      "100%|██████████| 1000/1000 [06:59<00:00,  2.39it/s]\n"
     ]
    },
    {
     "name": "stdout",
     "output_type": "stream",
     "text": [
      "Mean RMSE:  1886.11 meters\n",
      "Running for 22 knots\n"
     ]
    },
    {
     "name": "stderr",
     "output_type": "stream",
     "text": [
      "100%|██████████| 1000/1000 [06:58<00:00,  2.39it/s]\n"
     ]
    },
    {
     "name": "stdout",
     "output_type": "stream",
     "text": [
      "Mean RMSE:  1887.12 meters\n",
      "Running for 23 knots\n"
     ]
    },
    {
     "name": "stderr",
     "output_type": "stream",
     "text": [
      "100%|██████████| 1000/1000 [06:55<00:00,  2.41it/s]\n"
     ]
    },
    {
     "name": "stdout",
     "output_type": "stream",
     "text": [
      "Mean RMSE:  1886.95 meters\n",
      "Running for 24 knots\n"
     ]
    },
    {
     "name": "stderr",
     "output_type": "stream",
     "text": [
      "100%|██████████| 1000/1000 [06:55<00:00,  2.41it/s]\n"
     ]
    },
    {
     "name": "stdout",
     "output_type": "stream",
     "text": [
      "Mean RMSE:  1887.64 meters\n",
      "Running for 25 knots\n"
     ]
    },
    {
     "name": "stderr",
     "output_type": "stream",
     "text": [
      "100%|██████████| 1000/1000 [06:54<00:00,  2.42it/s]\n"
     ]
    },
    {
     "name": "stdout",
     "output_type": "stream",
     "text": [
      "Mean RMSE:  1888.97 meters\n",
      "Overall RMSE: 1888.969172655573\n"
     ]
    },
    {
     "data": {
      "image/png": "[encoded data removed]",
      "text/plain": [
       "<Figure size 1200x400 with 1 Axes>"
      ]
     },
     "metadata": {},
     "output_type": "display_data"
    }
   ],
   "source": [
    "time = 24 * 60  # minutes\n",
    "vel_noise = 1.75  # m/s\n",
    "noise = np.array([0, 0, 0, vel_noise, vel_noise, 0.01])\n",
    "bound = 1852  # meters\n",
    "errors = []\n",
    "errors_dict = {}\n",
    "for i in range(1, 26): # 1 to 25 nautical miles per hour\n",
    "    print(f\"Running for {i} knots\")\n",
    "    v = i * bound / 3600  # convert to m/s\n",
    "    for a in tqdm(range(1000)):\n",
    "        # Eastward\n",
    "        u = np.asarray([0.0, v, 0.0])\n",
    "        errors.append(run_velocity_loop(u, noise))\n",
    "        # Northward\n",
    "        u = np.asarray([v, 0, 0])\n",
    "        errors.append(run_velocity_loop(u, noise))\n",
    "        # Northeastward\n",
    "        u = np.array([1, 1, 0]) / np.linalg.norm([1, 1, 0])\n",
    "        u *= v\n",
    "        errors.append(run_velocity_loop(u, noise))\n",
    "    errors_dict[i] = errors.copy()\n",
    "    print(f\"Mean RMSE: {np.mean(errors): 0.2f} meters\")\n",
    "print(f\"Overall RMSE: {np.mean(errors)}\")\n",
    "# Plot the previous\n",
    "\n",
    "plt.figure(figsize=(12, 4))\n",
    "plt.violinplot(errors_dict.values(), showmeans=True, showmedians=True)\n",
    "plt.axhline(y=1852, color='k', linestyle='--', label='1 Nautical Mile')\n",
    "plt.axhline(np.mean(errors), color='r', linestyle='-', label='Mean Error')\n",
    "plt.xlabel(\"Velocity (knots)\")\n",
    "plt.ylabel(\"Error (meters)\")\n",
    "plt.title(\"Velocity Noise Tuning Error Distributions\")\n",
    "plt.legend(loc=\"upper left\")\n",
    "plt.savefig(\"velocity_noise_tuning.png\")\n",
    "plt.show()\n"
   ]
  },
  {
   "cell_type": "markdown",
   "metadata": {},
   "source": [
    "Finalized noise model: $\\begin{bmatrix} 0 & 0 & 0 & 1.75 & 1.75 & 0.01 \\end{bmatrix}$\n",
    "\n",
    "---------"
   ]
  },
  {
   "cell_type": "markdown",
   "metadata": {},
   "source": [
    "## Develop measurement model\n",
    "\n",
    "Next we need to develop the measurement value standard deviation. We'll first do some general examination of the data. Namely, investigating the sensor measurements to see if we can build a reasonable sensor model."
   ]
  },
  {
   "cell_type": "code",
   "execution_count": 49,
   "metadata": {},
   "outputs": [],
   "source": [
    "from src.data_management import dbmgr"
   ]
  },
  {
   "cell_type": "code",
   "execution_count": 50,
   "metadata": {},
   "outputs": [],
   "source": [
    "db = dbmgr.DatabaseManager(\".db\")\n",
    "summary = db.get_all_trajectories()\n",
    "summary = summary.drop(summary.index[-1])\n",
    "bathy_trajectories = summary[summary[\"depth\"]]"
   ]
  },
  {
   "cell_type": "code",
   "execution_count": 91,
   "metadata": {},
   "outputs": [
    {
     "name": "stderr",
     "output_type": "stream",
     "text": [
      "  5%|▍         | 43/866 [01:28<02:35,  5.28it/s]  grdblend [NOTICE]: Remote data courtesy of GMT data server oceania [http://oceania.generic-mapping-tools.org]\n",
      "grdblend [NOTICE]: SRTM15 Earth Relief v2.6 original at 15x15 arc seconds [Tozer et al., 2019].\n",
      "grdblend [NOTICE]:   -> Download 10x10 degree grid tile (earth_relief_15s_p): N40E000\n",
      "  8%|▊         | 72/866 [01:43<02:17,  5.78it/s]"
     ]
    },
    {
     "name": "stdout",
     "output_type": "stream",
     "text": [
      "Failed to get bathymetry map for 71: -17.91333, -17.53666, 51.81, 51.81166\n"
     ]
    },
    {
     "name": "stderr",
     "output_type": "stream",
     "text": [
      "  9%|▉         | 82/866 [01:49<13:22,  1.02s/it]grdblend [NOTICE]: Remote data courtesy of GMT data server oceania [http://oceania.generic-mapping-tools.org]\n",
      "grdblend [NOTICE]: SRTM15 Earth Relief v2.6 original at 15x15 arc seconds [Tozer et al., 2019].\n",
      "grdblend [NOTICE]:   -> Download 10x10 degree grid tile (earth_relief_15s_p): N30W090\n",
      " 10%|▉         | 83/866 [02:27<2:40:18, 12.28s/it]grdblend [NOTICE]: Remote data courtesy of GMT data server oceania [http://oceania.generic-mapping-tools.org]\n",
      "grdblend [NOTICE]: SRTM15 Earth Relief v2.6 original at 15x15 arc seconds [Tozer et al., 2019].\n",
      "grdblend [NOTICE]:   -> Download 10x10 degree grid tile (earth_relief_15s_p): S30E060\n",
      " 12%|█▏        | 106/866 [03:01<03:27,  3.67it/s] grdblend [NOTICE]: Remote data courtesy of GMT data server oceania [http://oceania.generic-mapping-tools.org]\n",
      "grdblend [NOTICE]: SRTM15 Earth Relief v2.6 original at 15x15 arc seconds [Tozer et al., 2019].\n",
      "grdblend [NOTICE]:   -> Download 10x10 degree grid tile (earth_relief_15s_p): S40E020\n",
      " 12%|█▏        | 107/866 [04:37<6:07:18, 29.04s/it]grdblend [NOTICE]: Remote data courtesy of GMT data server oceania [http://oceania.generic-mapping-tools.org]\n",
      "grdblend [NOTICE]: SRTM15 Earth Relief v2.6 original at 15x15 arc seconds [Tozer et al., 2019].\n",
      "grdblend [NOTICE]:   -> Download 10x10 degree grid tile (earth_relief_15s_p): S40E120\n",
      " 13%|█▎        | 112/866 [09:34<5:31:01, 26.34s/it]  grdblend [NOTICE]: Remote data courtesy of GMT data server oceania [http://oceania.generic-mapping-tools.org]\n",
      "grdblend [NOTICE]: SRTM15 Earth Relief v2.6 original at 15x15 arc seconds [Tozer et al., 2019].\n",
      "grdblend [NOTICE]:   -> Download 10x10 degree grid tile (earth_relief_15s_p): N20W090\n",
      " 18%|█▊        | 156/866 [09:55<02:09,  5.47it/s]  "
     ]
    },
    {
     "name": "stdout",
     "output_type": "stream",
     "text": [
      "Failed to get bathymetry map for 158: -72.84539, -72.84363, 27.7544, 27.76496\n"
     ]
    },
    {
     "name": "stderr",
     "output_type": "stream",
     "text": [
      " 20%|█▉        | 171/866 [09:58<01:50,  6.27it/s]grdblend [NOTICE]: Remote data courtesy of GMT data server oceania [http://oceania.generic-mapping-tools.org]\n",
      "grdblend [NOTICE]: SRTM15 Earth Relief v2.6 original at 15x15 arc seconds [Tozer et al., 2019].\n",
      "grdblend [NOTICE]:   -> Download 10x10 degree grid tile (earth_relief_15s_p): N20W070\n",
      " 26%|██▌       | 227/866 [10:15<02:37,  4.05it/s]grdblend [NOTICE]: Remote data courtesy of GMT data server oceania [http://oceania.generic-mapping-tools.org]\n",
      "grdblend [NOTICE]: SRTM15 Earth Relief v2.6 original at 15x15 arc seconds [Tozer et al., 2019].\n",
      "grdblend [NOTICE]:   -> Download 10x10 degree grid tile (earth_relief_15s_p): N20W060\n",
      " 29%|██▊       | 248/866 [10:27<02:28,  4.16it/s]"
     ]
    },
    {
     "name": "stdout",
     "output_type": "stream",
     "text": [
      "Failed to get bathymetry map for 251: -56.93179, -56.91025, 21.14666, 21.14924\n"
     ]
    },
    {
     "name": "stderr",
     "output_type": "stream",
     "text": [
      " 29%|██▉       | 253/866 [10:28<02:01,  5.04it/s]"
     ]
    },
    {
     "name": "stdout",
     "output_type": "stream",
     "text": [
      "Failed to get bathymetry map for 255: -56.94904, -56.94655, 21.14325, 21.14657\n"
     ]
    },
    {
     "name": "stderr",
     "output_type": "stream",
     "text": [
      " 30%|███       | 263/866 [10:30<02:17,  4.39it/s]"
     ]
    },
    {
     "name": "stdout",
     "output_type": "stream",
     "text": [
      "Failed to get bathymetry map for 265: -56.9387, -56.92815, 21.14376, 21.14536\n",
      "Failed to get bathymetry map for 266: -56.93424, -56.92779, 21.14386, 21.14532\n"
     ]
    },
    {
     "name": "stderr",
     "output_type": "stream",
     "text": [
      " 32%|███▏      | 277/866 [10:33<02:15,  4.36it/s]grdblend [NOTICE]: Remote data courtesy of GMT data server oceania [http://oceania.generic-mapping-tools.org]\n",
      "grdblend [NOTICE]: SRTM15 Earth Relief v2.6 original at 15x15 arc seconds [Tozer et al., 2019].\n",
      "grdblend [NOTICE]:   -> Download 10x10 degree grid tile (earth_relief_15s_p): N10W060\n",
      " 35%|███▌      | 306/866 [10:53<01:53,  4.95it/s]grdblend [NOTICE]: Remote data courtesy of GMT data server oceania [http://oceania.generic-mapping-tools.org]\n",
      "grdblend [NOTICE]: SRTM15 Earth Relief v2.6 original at 15x15 arc seconds [Tozer et al., 2019].\n",
      "grdblend [NOTICE]:   -> Download 10x10 degree grid tile (earth_relief_15s_p): N10W050\n",
      " 40%|███▉      | 343/866 [11:10<01:39,  5.28it/s]"
     ]
    },
    {
     "name": "stdout",
     "output_type": "stream",
     "text": [
      "Failed to get bathymetry map for 347: -46.59278, -46.58718, 15.60165, 15.60237\n"
     ]
    },
    {
     "name": "stderr",
     "output_type": "stream",
     "text": [
      " 40%|████      | 348/866 [11:11<01:39,  5.20it/s]"
     ]
    },
    {
     "name": "stdout",
     "output_type": "stream",
     "text": [
      "Failed to get bathymetry map for 352: -46.56975, -46.56729, 15.62717, 15.63773\n"
     ]
    },
    {
     "name": "stderr",
     "output_type": "stream",
     "text": [
      " 43%|████▎     | 372/866 [11:16<02:03,  4.00it/s]"
     ]
    },
    {
     "name": "stdout",
     "output_type": "stream",
     "text": [
      "Failed to get bathymetry map for 377: -46.59166, -46.57954, 15.5686, 15.57011\n"
     ]
    },
    {
     "name": "stderr",
     "output_type": "stream",
     "text": [
      " 47%|████▋     | 403/866 [11:22<01:28,  5.22it/s]"
     ]
    },
    {
     "name": "stdout",
     "output_type": "stream",
     "text": [
      "Failed to get bathymetry map for 412: -46.66321, -46.64329, 16.25476, 16.25651\n"
     ]
    },
    {
     "name": "stderr",
     "output_type": "stream",
     "text": [
      " 49%|████▉     | 425/866 [11:26<01:14,  5.92it/s]"
     ]
    },
    {
     "name": "stdout",
     "output_type": "stream",
     "text": [
      "Failed to get bathymetry map for 434: -46.65994, -46.65032, 15.58778, 15.58888\n"
     ]
    },
    {
     "name": "stderr",
     "output_type": "stream",
     "text": [
      " 49%|████▉     | 428/866 [11:26<01:15,  5.81it/s]"
     ]
    },
    {
     "name": "stdout",
     "output_type": "stream",
     "text": [
      "Failed to get bathymetry map for 437: -46.64447, -46.64199, 15.58028, 15.58153\n",
      "Failed to get bathymetry map for 438: -46.64422, -46.63855, 15.57977, 15.58217\n"
     ]
    },
    {
     "name": "stderr",
     "output_type": "stream",
     "text": [
      " 50%|████▉     | 432/866 [11:27<01:13,  5.92it/s]"
     ]
    },
    {
     "name": "stdout",
     "output_type": "stream",
     "text": [
      "Failed to get bathymetry map for 441: -46.64643, -46.64184, 15.58387, 15.58588\n"
     ]
    },
    {
     "name": "stderr",
     "output_type": "stream",
     "text": [
      " 50%|█████     | 434/866 [11:27<01:18,  5.48it/s]"
     ]
    },
    {
     "name": "stdout",
     "output_type": "stream",
     "text": [
      "Failed to get bathymetry map for 444: -46.64445, -46.64256, 15.60439, 15.61419\n"
     ]
    },
    {
     "name": "stderr",
     "output_type": "stream",
     "text": [
      " 51%|█████▏    | 444/866 [11:29<01:12,  5.81it/s]"
     ]
    },
    {
     "name": "stdout",
     "output_type": "stream",
     "text": [
      "Failed to get bathymetry map for 453: -46.62212, -46.62119, 16.2862, 16.34764\n",
      "Failed to get bathymetry map for 454: -46.62255, -46.62168, 16.21749, 16.2828\n"
     ]
    },
    {
     "name": "stderr",
     "output_type": "stream",
     "text": [
      " 59%|█████▊    | 507/866 [11:39<00:58,  6.15it/s]grdblend [NOTICE]: Remote data courtesy of GMT data server oceania [http://oceania.generic-mapping-tools.org]\n",
      "grdblend [NOTICE]: SRTM15 Earth Relief v2.6 original at 15x15 arc seconds [Tozer et al., 2019].\n",
      "grdblend [NOTICE]:   -> Download 10x10 degree grid tile (earth_relief_15s_p): N20W050\n",
      " 62%|██████▏   | 534/866 [11:54<01:12,  4.59it/s]"
     ]
    },
    {
     "name": "stdout",
     "output_type": "stream",
     "text": [
      "Failed to get bathymetry map for 543: -45.02631, -45.02563, 23.31807, 23.32316\n"
     ]
    },
    {
     "name": "stderr",
     "output_type": "stream",
     "text": [
      " 63%|██████▎   | 543/866 [11:57<01:25,  3.79it/s]"
     ]
    },
    {
     "name": "stdout",
     "output_type": "stream",
     "text": [
      "Failed to get bathymetry map for 553: -45.03543, -45.02689, 23.33412, 23.33531\n"
     ]
    },
    {
     "name": "stderr",
     "output_type": "stream",
     "text": [
      " 63%|██████▎   | 544/866 [11:57<01:23,  3.85it/s]"
     ]
    },
    {
     "name": "stdout",
     "output_type": "stream",
     "text": [
      "Failed to get bathymetry map for 559: -45.04169, -45.03427, 23.33071, 23.33144\n"
     ]
    },
    {
     "name": "stderr",
     "output_type": "stream",
     "text": [
      " 71%|███████▏  | 618/866 [12:10<00:40,  6.12it/s]"
     ]
    },
    {
     "name": "stdout",
     "output_type": "stream",
     "text": [
      "Failed to get bathymetry map for 634: -44.97879, -44.97785, 23.2962, 23.30949\n",
      "Failed to get bathymetry map for 635: -44.97864, -44.97755, 23.30697, 23.30947\n"
     ]
    },
    {
     "name": "stderr",
     "output_type": "stream",
     "text": [
      " 72%|███████▏  | 620/866 [12:10<00:41,  5.92it/s]"
     ]
    },
    {
     "name": "stdout",
     "output_type": "stream",
     "text": [
      "Failed to get bathymetry map for 636: -44.97871, -44.97701, 23.30818, 23.30939\n"
     ]
    },
    {
     "name": "stderr",
     "output_type": "stream",
     "text": [
      " 72%|███████▏  | 622/866 [12:10<00:42,  5.69it/s]"
     ]
    },
    {
     "name": "stdout",
     "output_type": "stream",
     "text": [
      "Failed to get bathymetry map for 638: -44.97742, -44.97624, 23.32145, 23.33379\n"
     ]
    },
    {
     "name": "stderr",
     "output_type": "stream",
     "text": [
      " 84%|████████▍ | 730/866 [12:28<00:19,  7.01it/s]"
     ]
    },
    {
     "name": "stdout",
     "output_type": "stream",
     "text": [
      "Failed to get bathymetry map for 750: -42.13364, -42.12954, 30.15546, 30.15772\n"
     ]
    },
    {
     "name": "stderr",
     "output_type": "stream",
     "text": [
      " 85%|████████▍ | 733/866 [12:29<00:27,  4.76it/s]"
     ]
    },
    {
     "name": "stdout",
     "output_type": "stream",
     "text": [
      "Failed to get bathymetry map for 754: -42.13247, -42.13038, 30.16794, 30.17642\n"
     ]
    },
    {
     "name": "stderr",
     "output_type": "stream",
     "text": [
      " 86%|████████▌ | 741/866 [12:30<00:22,  5.59it/s]"
     ]
    },
    {
     "name": "stdout",
     "output_type": "stream",
     "text": [
      "Failed to get bathymetry map for 761: -42.16114, -42.15934, 30.11502, 30.12017\n"
     ]
    },
    {
     "name": "stderr",
     "output_type": "stream",
     "text": [
      " 88%|████████▊ | 758/866 [12:33<00:24,  4.38it/s]"
     ]
    },
    {
     "name": "stdout",
     "output_type": "stream",
     "text": [
      "Failed to get bathymetry map for 790: -41.95834, -41.95674, 30.16678, 30.16715\n"
     ]
    },
    {
     "name": "stderr",
     "output_type": "stream",
     "text": [
      " 89%|████████▉ | 769/866 [12:35<00:16,  5.97it/s]"
     ]
    },
    {
     "name": "stdout",
     "output_type": "stream",
     "text": [
      "Failed to get bathymetry map for 801: -41.96858, -41.9671, 30.13248, 30.13593\n"
     ]
    },
    {
     "name": "stderr",
     "output_type": "stream",
     "text": [
      " 89%|████████▉ | 772/866 [12:36<00:17,  5.32it/s]"
     ]
    },
    {
     "name": "stdout",
     "output_type": "stream",
     "text": [
      "Failed to get bathymetry map for 803: -41.96517, -41.96375, 30.14824, 30.15797\n"
     ]
    },
    {
     "name": "stderr",
     "output_type": "stream",
     "text": [
      "100%|█████████▉| 865/866 [12:56<00:00,  6.14it/s]"
     ]
    },
    {
     "name": "stdout",
     "output_type": "stream",
     "text": [
      "Failed to get bathymetry map for 902: -25.66404, -25.66327, 37.73444, 37.73501\n"
     ]
    },
    {
     "name": "stderr",
     "output_type": "stream",
     "text": [
      "grdblend [NOTICE]: Remote data courtesy of GMT data server oceania [http://oceania.generic-mapping-tools.org]\n",
      "grdblend [NOTICE]: SRTM15 Earth Relief v2.6 original at 15x15 arc seconds [Tozer et al., 2019].\n",
      "grdblend [NOTICE]:   -> Download 10x10 degree grid tile (earth_relief_15s_p): N10W090\n",
      "100%|██████████| 866/866 [13:55<00:00,  1.04it/s]\n"
     ]
    }
   ],
   "source": [
    "from src.geophysical import gmt_toolbox as gmt\n",
    "from tqdm import tqdm\n",
    "\n",
    "bathy_differences = np.empty((0,))\n",
    "\n",
    "for id in tqdm(bathy_trajectories[\"id\"]):\n",
    "    data = db.get_trajectory(id)\n",
    "    min_lon = data['lon'].min()\n",
    "    max_lon = data['lon'].max()\n",
    "    min_lat = data['lat'].min()\n",
    "    max_lat = data['lat'].max()\n",
    "    # min_lon, min_lat, max_lon, max_lat = gmt.inflate_bounds(min_lon, min_lat, max_lon, max_lat, 0.25)\n",
    "    try:\n",
    "        bathy_map = gmt.GeophysicalMap(gmt.MeasurementType.BATHYMETRY, \n",
    "                                   gmt.ReliefResolution.FIFTEEN_SECONDS, \n",
    "                                   min_lon, max_lon, min_lat, max_lat, 0.25)\n",
    "    except AssertionError:\n",
    "        if min_lat == max_lat:\n",
    "            min_lat -= 0.25\n",
    "            max_lat += 0.25\n",
    "        if min_lon == max_lon:\n",
    "            min_lon -= 0.25\n",
    "            max_lon += 0.25\n",
    "        bathy_map = gmt.GeophysicalMap(gmt.MeasurementType.BATHYMETRY, \n",
    "                                   gmt.ReliefResolution.FIFTEEN_SECONDS, \n",
    "                                   min_lon, max_lon, min_lat, max_lat, 0.1)\n",
    "    except:\n",
    "        print(f\"Failed to get bathymetry map for {id}: {min_lon}, {max_lon}, {min_lat}, {max_lat}\")\n",
    "    #d_bathy = np.hstack([d_bathy, data[\"DEPTH\"] - (-get_map_point(bathy_map, data.LON, data.LAT))])\n",
    "    bathy_differences = np.append(bathy_differences, data[\"depth\"] - (-bathy_map.get_map_point(data['lon'], data['lat'])))\n",
    "\n",
    "bathy_mean_d = np.mean(bathy_differences, where=~np.isnan(bathy_differences))\n",
    "bathy_std = np.std(bathy_differences, where=~np.isnan(bathy_differences))"
   ]
  },
  {
   "cell_type": "code",
   "execution_count": 143,
   "metadata": {},
   "outputs": [
    {
     "name": "stderr",
     "output_type": "stream",
     "text": [
      "<>:11: SyntaxWarning: invalid escape sequence '\\p'\n",
      "<>:11: SyntaxWarning: invalid escape sequence '\\p'\n",
      "/tmp/ipykernel_82716/53378082.py:11: SyntaxWarning: invalid escape sequence '\\p'\n",
      "  plt.axvline(Mean + Std, color='k', linestyle='--', label=f'$\\pm\\sigma={Std:0.2f}$')\n"
     ]
    }
   ],
   "source": [
    "from scipy.stats import mode\n",
    "\n",
    "def plot_measurement_statistics(data:np.ndarray, title:str, xlabel:str, ylabel:str, filename:str, bin_count:int=1000, xlims:tuple=None):\n",
    "    Mean = np.mean(data, where=~np.isnan(data))\n",
    "    Std = np.std(data, where=~np.isnan(data))\n",
    "    Median = np.median(data[~np.isnan(data)])\n",
    "    Mode = mode(data[~np.isnan(data)]).mode\n",
    "    plt.figure(figsize=(8, 4))\n",
    "    plt.hist(data, bins=bin_count, density=True, alpha=0.75)\n",
    "    plt.axvline(Mean, color='r', linestyle='--', label=f'Mean={Mean:0.2f}')\n",
    "    plt.axvline(Mean + Std, color='k', linestyle='--', label=f'$\\pm\\sigma={Std:0.2f}$')\n",
    "    plt.axvline(Mean - Std, color='k', linestyle='--')\n",
    "    plt.axvline(Median, color='g', linestyle='--', label=f'Median={Median:0.2f}')\n",
    "    plt.axvline(Mode, color='b', linestyle='--', label=f'Mode={Mode:0.2f}')\n",
    "    plt.xlabel(xlabel)\n",
    "    plt.ylabel(ylabel)\n",
    "    if xlims is not None:\n",
    "        plt.xlim(xlims)\n",
    "    plt.title(title)\n",
    "    plt.legend(loc=\"upper left\")\n",
    "    plt.savefig(filename)\n",
    "    plt.show()"
   ]
  },
  {
   "cell_type": "markdown",
   "metadata": {},
   "source": [
    "Using the above, let's plot the data and see if we can build a reasonable sensor model."
   ]
  },
  {
   "cell_type": "code",
   "execution_count": 146,
   "metadata": {},
   "outputs": [
    {
     "data": {
      "image/png": "[encoded data removed]",
      "text/plain": [
       "<Figure size 800x400 with 1 Axes>"
      ]
     },
     "metadata": {},
     "output_type": "display_data"
    },
    {
     "name": "stdout",
     "output_type": "stream",
     "text": [
      "Max: 4921.768287999863\n"
     ]
    }
   ],
   "source": [
    "plot_measurement_statistics(bathy_differences, \"Raw Bathymetry Measurement Statistics\", \"Difference (meters)\", \"Density\", \"bathy_diff_stats_raw.png\", xlims=(-1000, 1000))\n",
    "print(f\"Max: {np.max(bathy_differences[~np.isnan(bathy_differences)])}\")"
   ]
  },
  {
   "cell_type": "markdown",
   "metadata": {},
   "source": [
    "So from the above we can see that the data resembles a normal distribution, but has some substantial outliers. So let's filter out the outliers and then plot the data again."
   ]
  },
  {
   "cell_type": "code",
   "execution_count": 147,
   "metadata": {},
   "outputs": [
    {
     "data": {
      "image/png": "[encoded data removed]",
      "text/plain": [
       "<Figure size 800x400 with 1 Axes>"
      ]
     },
     "metadata": {},
     "output_type": "display_data"
    }
   ],
   "source": [
    "# Filter out the outliers\n",
    "bathy_differences_filtered = bathy_differences[np.abs(bathy_differences - bathy_mean_d) < 3 * bathy_std]\n",
    "plot_measurement_statistics(bathy_differences_filtered, \"Filtered Bathymetry Measurement Statistics\", \"Difference (meters)\", \"Density\", \"bathy_diff_stats_filtered.png\", xlims=(-250, 250))"
   ]
  },
  {
   "cell_type": "markdown",
   "metadata": {},
   "source": [
    "With the filtered data we can see that the data is much more normally distributed. We can now use this data to build a sensor model for the particle filter. This model is a simple zero-mean normal distribution with a standard deviation of 100 meters."
   ]
  },
  {
   "cell_type": "markdown",
   "metadata": {},
   "source": [
    "--------------------"
   ]
  },
  {
   "cell_type": "code",
   "execution_count": 5,
   "metadata": {},
   "outputs": [],
   "source": [
    "from src.data_management import m77t as tbx\n",
    "import os       \n",
    "import pandas as pd\n",
    "import numpy as np\n",
    "from matplotlib import pyplot as plt\n",
    "from pyins import strapdown, transform, measurements, filters, sim\n",
    "from src.geophysical import gmt_toolbox as gmt\n",
    "from anglewrapper import wrap"
   ]
  },
  {
   "cell_type": "code",
   "execution_count": 6,
   "metadata": {},
   "outputs": [],
   "source": [
    "filepath = os.path.join(\"test\", \"test_data.m77t\")"
   ]
  },
  {
   "cell_type": "code",
   "execution_count": 7,
   "metadata": {},
   "outputs": [],
   "source": [
    "datain = tbx.process_m77t_file(filepath)\n",
    "traj = datain[2].copy()\n",
    "traj_ins = traj.copy()\n",
    "traj_ins.index = traj.index.to_series().diff().dt.total_seconds().fillna(0).cumsum()\n",
    "\n",
    "increments = strapdown.compute_increments_from_imu(traj_ins, \"rate\")\n",
    "#increments = increments.rolling(window=5, min_periods=1).mean()\n",
    "observations = measurements.Position(sim.generate_position_measurements(traj_ins[[\"lat\", \"lon\", \"alt\"]], 5.0), 5.0)\n",
    "init_pva = traj_ins.loc[\n",
    "    traj_ins.index[0],\n",
    "    [\"lat\", \"lon\", \"alt\", \"VN\", \"VE\", \"VD\", \"roll\", \"pitch\", \"heading\"],\n",
    "]\n",
    "distance = traj_ins[\"distance\"].to_numpy()"
   ]
  },
  {
   "cell_type": "code",
   "execution_count": 8,
   "metadata": {},
   "outputs": [],
   "source": [
    "# Run the filter\n",
    "integrator = strapdown.Integrator(init_pva, True)\n",
    "integrator.integrate(increments)\n",
    "\n",
    "feedback = filters.run_feedback_filter(\n",
    "    init_pva,\n",
    "    5,\n",
    "    2,\n",
    "    1,\n",
    "    1,\n",
    "    increments,\n",
    "    measurements=[observations],\n",
    "    time_step=1.0,\n",
    "    with_altitude=True,\n",
    ")\n",
    "ins_errors = transform.compute_state_difference(traj_ins, feedback.trajectory)\n",
    "integrator_error = transform.compute_state_difference(traj_ins, integrator.trajectory)"
   ]
  },
  {
   "cell_type": "code",
   "execution_count": null,
   "metadata": {},
   "outputs": [],
   "source": [
    "# Plot the results as a function of distance traveled\n",
    "plt.plot(\n",
    "    distance / 1852,\n",
    "    100 * np.sqrt(ins_errors.north**2 + ins_errors.east**2) / distance,\n",
    "    'g.',\n",
    "    label=\"INS error\",\n",
    ")\n",
    "plt.plot(\n",
    "    distance / 1852,\n",
    "    100 * np.sqrt(integrator_error.north**2 + integrator_error.east**2) / distance,\n",
    "    'r.',\n",
    "    label=\"integrator error\",\n",
    ")\n",
    "plt.xlabel(\"Distance traveled (nmi)\")\n",
    "plt.ylabel(\"Position error (% of distance traveled)\")\n",
    "plt.title(\"Radial position error vs. distance traveled\")\n",
    "plt.legend()\n",
    "plt.show()"
   ]
  },
  {
   "cell_type": "code",
   "execution_count": null,
   "metadata": {},
   "outputs": [],
   "source": [
    "plt.plot(traj_ins.lon, traj_ins.lat, 'k.', label=\"Truth\")\n",
    "plt.plot(integrator.trajectory.lon, integrator.trajectory.lat, 'r.', label=\"Integrator\")\n",
    "plt.plot(feedback.trajectory.lon, feedback.trajectory.lat, 'g.', label=\"INS\")\n",
    "plt.xlabel(\"Longitude\")\n",
    "plt.ylabel(\"Latitude\")\n",
    "plt.title(\"2D trajectory\")\n",
    "plt.legend()\n",
    "plt.show()"
   ]
  },
  {
   "cell_type": "markdown",
   "metadata": {},
   "source": []
  },
  {
   "cell_type": "code",
   "execution_count": null,
   "metadata": {},
   "outputs": [],
   "source": []
  },
  {
   "cell_type": "code",
   "execution_count": null,
   "metadata": {},
   "outputs": [],
   "source": [
    "from matplotlib import pyplot as plt\n",
    "\n",
    "if not os.path.exists(\".db/plots\"):\n",
    "    os.makedirs(\".db/plots\")\n",
    "\n",
    "plt.hist(errors, bins=15, density=True)\n",
    "plt.xlabel(\"RMSE (m)\")\n",
    "plt.ylabel(\"Frequency\")\n",
    "plt.title(\"RMSE of Particle Filter\")\n",
    "plt.savefig(\".db/plots/propagation_tuning.png\")\n",
    "plt.show()"
   ]
  },
  {
   "cell_type": "code",
   "execution_count": null,
   "metadata": {},
   "outputs": [],
   "source": [
    "config = {\"velocity_noise\": [noise[1], noise[1], 0]}"
   ]
  },
  {
   "cell_type": "markdown",
   "metadata": {},
   "source": []
  },
  {
   "cell_type": "code",
   "execution_count": null,
   "metadata": {},
   "outputs": [],
   "source": []
  },
  {
   "cell_type": "code",
   "execution_count": null,
   "metadata": {},
   "outputs": [],
   "source": [
    "plt.hist(d_bathy, bins=200, density=True)\n",
    "plt.xlim([-300, 300])\n",
    "plt.xlabel(\"Depth Difference (m)\")\n",
    "plt.ylabel(\"Frequency\")\n",
    "plt.title(\"Bathymetry Difference\")\n",
    "plt.savefig(\".db/plots/bathy_diff.png\")\n",
    "plt.show()"
   ]
  },
  {
   "cell_type": "code",
   "execution_count": null,
   "metadata": {},
   "outputs": [],
   "source": [
    "config"
   ]
  },
  {
   "cell_type": "code",
   "execution_count": null,
   "metadata": {},
   "outputs": [],
   "source": [
    "import json\n",
    "\n",
    "with open(\"config.json\", \"w\") as f:\n",
    "    json.dump(config, f)"
   ]
  },
  {
   "cell_type": "markdown",
   "metadata": {},
   "source": [
    "### Populate with velocities"
   ]
  },
  {
   "cell_type": "code",
   "execution_count": null,
   "metadata": {},
   "outputs": [],
   "source": [
    "from src.particle_filter import (\n",
    "    process_particle_filter,\n",
    "    populate_velocities,\n",
    "    plot_error,\n",
    "    plot_estimate,\n",
    "    summarize_results,\n",
    ")\n",
    "import json\n",
    "import src.process_dataset as pdset\n",
    "from tqdm import tqdm\n",
    "import pandas as pd\n",
    "import os\n",
    "import matplotlib.pyplot as plt"
   ]
  },
  {
   "cell_type": "code",
   "execution_count": null,
   "metadata": {},
   "outputs": [],
   "source": [
    "tables = pdset.get_tables(\".db/parsed.db\")\n",
    "bathy_tables = [table for table in tables if \"_D_\" in table]\n",
    "config = json.load(open(\"config.json\", \"r\"))\n",
    "config[\"n\"] = 1000\n",
    "config[\"cov\"] = [\n",
    "    1 / 60,\n",
    "    1 / 60,\n",
    "    0,\n",
    "    config[\"velocity_noise\"][0],\n",
    "    config[\"velocity_noise\"][1],\n",
    "    0,\n",
    "]\n",
    "\n",
    "with open(\"config.json\", \"w\") as f:\n",
    "    json.dump(config, f)"
   ]
  },
  {
   "cell_type": "code",
   "execution_count": null,
   "metadata": {},
   "outputs": [],
   "source": [
    "config"
   ]
  },
  {
   "cell_type": "code",
   "execution_count": null,
   "metadata": {},
   "outputs": [],
   "source": [
    "df = pdset.table_to_df(\".db/parsed.db\", bathy_tables[3])"
   ]
  },
  {
   "cell_type": "code",
   "execution_count": null,
   "metadata": {},
   "outputs": [],
   "source": [
    "len(df)"
   ]
  },
  {
   "cell_type": "code",
   "execution_count": null,
   "metadata": {},
   "outputs": [],
   "source": [
    "if not os.path.exists(\".db/plots2/estimate/\"):\n",
    "    os.makedirs(\".db/plots2/estimate/\")\n",
    "\n",
    "if not os.path.exists(\".db/plots2/errors/\"):\n",
    "    os.makedirs(\".db/plots2/errors/\")\n",
    "\n",
    "summary = None\n",
    "annotations = {\"recovery\": 1852, \"res\": 1852 / 4}\n",
    "# for table in tqdm(bathy_tables):\n",
    "#     print(f\"Running {table}\")\n",
    "#     df = pdset.table_to_df(\".db/parsed.db\", table)\n",
    "\n",
    "df = populate_velocities(df)\n",
    "results, geo_map = process_particle_filter(df, config)\n",
    "print(\"Run complete! Saving results...\")\n",
    "pdset.save_dataset(\n",
    "    [results],\n",
    "    [\"test\"],\n",
    "    output_location=\".db\",\n",
    "    output_format=\"db\",\n",
    "    dataset_name=\"results\",\n",
    ")"
   ]
  },
  {
   "cell_type": "code",
   "execution_count": null,
   "metadata": {},
   "outputs": [],
   "source": [
    "print(\"Results saved! Plotting...\")\n",
    "fig, ax = plot_estimate(geo_map, results)\n",
    "fig.savefig(f\".db/plots2/estimate/test_estimate.png\")\n",
    "plt.close(fig)\n",
    "fig, ax = plot_error(results, annotations=annotations)\n",
    "fig.savefig(f\".db/plots2/errors/test_error.png\")\n",
    "plt.close(fig)"
   ]
  },
  {
   "cell_type": "code",
   "execution_count": null,
   "metadata": {},
   "outputs": [],
   "source": [
    "summary = None\n",
    "results_tables = pdset.get_tables(\".db/results.db\")\n",
    "for table in results_tables:\n",
    "    df = pdset.table_to_df(\".db/results.db\", table)\n",
    "    run = summarize_results(df, 1852)\n",
    "    run[\"Name\"] = table\n",
    "    if summary is None:\n",
    "        summary = run  # .copy()\n",
    "    else:\n",
    "        summary = pd.concat([summary, run], ignore_index=True)\n",
    "    summary.to_csv(\".db/summary_recovery.csv\")"
   ]
  },
  {
   "cell_type": "code",
   "execution_count": null,
   "metadata": {},
   "outputs": [],
   "source": [
    "summary = None\n",
    "results_tables = pdset.get_tables(\".db/results.db\")\n",
    "for table in results_tables:\n",
    "    df = pdset.table_to_df(\".db/results.db\", table)\n",
    "    run = summarize_results(df, 452)\n",
    "    run[\"Name\"] = table\n",
    "    if summary is None:\n",
    "        summary = run  # .copy()\n",
    "    else:\n",
    "        summary = pd.concat([summary, run], ignore_index=True)\n",
    "    summary.to_csv(\".db/summary_resolution.csv\")"
   ]
  },
  {
   "cell_type": "markdown",
   "metadata": {},
   "source": [
    "# Data Post Processing\n",
    "\n",
    "Use this section to load and post process the results data set"
   ]
  },
  {
   "cell_type": "code",
   "execution_count": null,
   "metadata": {},
   "outputs": [],
   "source": [
    "import src.process_dataset as pdset\n",
    "import pandas as pd\n",
    "import matplotlib.pyplot as plt\n",
    "from src.particle_filter import summarize_results\n",
    "import os\n",
    "from datetime import timedelta"
   ]
  },
  {
   "cell_type": "code",
   "execution_count": null,
   "metadata": {},
   "outputs": [],
   "source": [
    "results_tables = pdset.get_tables(\".db/results.db\")\n",
    "len(results_tables)"
   ]
  },
  {
   "cell_type": "code",
   "execution_count": null,
   "metadata": {},
   "outputs": [],
   "source": [
    "for table in results_tables:\n",
    "    table_df = pdset.table_to_df(\".db/results.db\", table)\n",
    "    summary = summarize_results(table, table_df, 1852)\n",
    "    summary.to_csv(\n",
    "        \".db/plots/summary.csv\",\n",
    "        mode=\"a\",\n",
    "        header=(not os.path.exists(\".db/plots/summary.csv\")),\n",
    "    )"
   ]
  },
  {
   "cell_type": "code",
   "execution_count": null,
   "metadata": {},
   "outputs": [],
   "source": [
    "summary = pd.read_csv(\n",
    "    \".db/plots/summary.csv\",\n",
    "    header=0,\n",
    "    dtype={\n",
    "        \"\": int,\n",
    "        \"name\": str,\n",
    "        \"start\": str,\n",
    "        \"stop\": str,\n",
    "        \"duration\": str,\n",
    "        \"average_error\": float,\n",
    "        \"max_error\": float,\n",
    "        \"min_error\": float,\n",
    "    },\n",
    ")\n",
    "summary[\"num\"] = summary[\"Unnamed: 0\"]\n",
    "summary = summary.drop(columns=[\"Unnamed: 0\"])\n",
    "# summary['start'] = pd.to_datetime(summary['start'], format=\"%Y-%m-%d %H:%M:%S%z\")\n",
    "# summary['end'] = pd.to_datetime(summary['end'], format=\"%Y-%m-%d %H:%M:%S%z\")\n",
    "summary[\"start\"] = pd.to_timedelta(summary[\"start\"])\n",
    "summary[\"end\"] = pd.to_timedelta(summary[\"end\"])\n",
    "summary[\"duration\"] = pd.to_timedelta(summary[\"duration\"])\n",
    "summary.head()\n",
    "\n",
    "len(summary)"
   ]
  },
  {
   "cell_type": "code",
   "execution_count": null,
   "metadata": {},
   "outputs": [],
   "source": [
    "summary.head()"
   ]
  },
  {
   "cell_type": "code",
   "execution_count": null,
   "metadata": {},
   "outputs": [],
   "source": [
    "recovery = summary.loc[summary[\"min error\"] > 452]\n",
    "len(recovery)"
   ]
  },
  {
   "cell_type": "code",
   "execution_count": null,
   "metadata": {},
   "outputs": [],
   "source": [
    "# check to see if all the tables in results_tables are present in summary[\"name\"] and if not capture the missing tables\n",
    "missing = []\n",
    "for table in results_tables:\n",
    "    if table not in summary[\"name\"].values:\n",
    "        missing.append(table)\n",
    "\n",
    "total = len(results_tables)\n",
    "num_recoveries = total - len(missing)\n",
    "print(\n",
    "    f\"There are {total} total trajectories. We were able to recover at least one position fix below drift error in {num_recoveries} ({num_recoveries / total :0.4f}) trajectories.\"\n",
    ")"
   ]
  },
  {
   "cell_type": "code",
   "execution_count": null,
   "metadata": {},
   "outputs": [],
   "source": [
    "pixel = summary.loc[summary[\"min error\"] <= 452]\n",
    "\n",
    "# check to see if the tables in pixel are present in summary[\"name\"] and if not capture the missing tables\n",
    "missing = []\n",
    "for table in results_tables:\n",
    "    if table not in pixel[\"name\"].values:\n",
    "        missing.append(table)\n",
    "below_pixel_fixes = total - len(missing)\n",
    "\n",
    "print(\n",
    "    f\"There are {len(pixel)} total below pixel resolution fixes. We were able to achieve at least one position estimate below drift error in {below_pixel_fixes} ({below_pixel_fixes/total :0.4f}) trajectories.\"\n",
    ")\n",
    "print(f\"mean duration: {pixel['duration'].mean()} and median duration: {pixel['duration'].median()}\")\n",
    "print(f\"mean error: {pixel['min error'].mean()} and median error: {pixel['min error'].median()}\")\n",
    "print(f\"minium duration: {pixel['duration'].min()} and maximum duration: {pixel['duration'].max()}\")\n",
    "print(f\"minimum error: {pixel['min error'].min()} and maximum error: {pixel['min error'].max()}\")\n",
    "print(f\"mean start: {pixel['start'].mean()} and median start: {pixel['start'].median()}\")"
   ]
  },
  {
   "cell_type": "code",
   "execution_count": null,
   "metadata": {},
   "outputs": [],
   "source": [
    "summary.sort_values(by=\"min error\").head(3)"
   ]
  },
  {
   "cell_type": "code",
   "execution_count": null,
   "metadata": {},
   "outputs": [],
   "source": [
    "summary.sort_values(by=\"start\").head(3)"
   ]
  },
  {
   "cell_type": "code",
   "execution_count": null,
   "metadata": {},
   "outputs": [],
   "source": [
    "summary.sort_values(by=\"duration\").tail(3)"
   ]
  },
  {
   "cell_type": "code",
   "execution_count": null,
   "metadata": {},
   "outputs": [],
   "source": [
    "summary.sort_values(by=\"average_error\").head(3)"
   ]
  },
  {
   "cell_type": "code",
   "execution_count": null,
   "metadata": {},
   "outputs": [],
   "source": [
    "# Find the line in summary that has the closest to the mean duration\n",
    "summary.loc[abs(summary[\"duration\"] - summary[\"duration\"].median()) <= timedelta(minutes=1)]"
   ]
  },
  {
   "cell_type": "code",
   "execution_count": null,
   "metadata": {},
   "outputs": [],
   "source": [
    "summary[\"duration\"].median()"
   ]
  },
  {
   "cell_type": "code",
   "execution_count": null,
   "metadata": {},
   "outputs": [],
   "source": [
    "print(\n",
    "    f\"On average we were able to recover a position fix with an mean duration of {summary['duration'].mean()}, median duration of {summary['duration'].median()} and a mean error of {summary['average_error'].mean()} and median error {summary['average_error'].median()}.\"\n",
    ")\n",
    "\n",
    "print(f\"Minimum duration {summary['duration'].min()} and maximum duration {summary['duration'].max()}.\")\n",
    "print(f\"Minimum error {summary['average_error'].min()} and maximum error {summary['average_error'].max()}.\")"
   ]
  },
  {
   "cell_type": "code",
   "execution_count": null,
   "metadata": {},
   "outputs": [],
   "source": [
    "first = summary.loc[summary[\"num\"] == 0]\n",
    "# first.head()\n",
    "\n",
    "print(\n",
    "    f\"The first position recover occurs with a mean of {first['start'].mean()} and median {first['start'].median()} after the start of the trajectory.\"\n",
    ")\n",
    "print(\n",
    "    f\"with an mean duration of {first['duration'].mean()}, median duration of {first['duration'].median()} and a mean error of {first['average_error'].mean()} and median error {first['average_error'].median()}.\"\n",
    ")\n",
    "\n",
    "print(f\"Minimum duration {first['duration'].min()} and maximum duration {first['duration'].max()}.\")\n",
    "print(f\"Minimum error {first['average_error'].min()} and maximum error {first['average_error'].max()}.\")"
   ]
  },
  {
   "cell_type": "markdown",
   "metadata": {},
   "source": [
    "# Gravity\n",
    "\n",
    "Recreate the above simulation and measurment model development this time with gravity"
   ]
  },
  {
   "cell_type": "code",
   "execution_count": null,
   "metadata": {},
   "outputs": [],
   "source": [
    "from src.gmt_tool import inflate_bounds, get_map_section, get_map_point\n",
    "import src.process_dataset as pdset\n",
    "import numpy as np\n",
    "import json\n",
    "from matplotlib import pyplot as plt\n",
    "import os\n",
    "\n",
    "config = json.load(open(\"config.json\", \"r\"))\n",
    "tables = pdset.get_tables(\".db/parsed.db\")\n",
    "gravity_tables = [table for table in tables if \"_G_\" in table]"
   ]
  },
  {
   "cell_type": "code",
   "execution_count": null,
   "metadata": {},
   "outputs": [],
   "source": [
    "d_gravity = np.array([])\n",
    "\n",
    "for table in gravity_tables:\n",
    "    data = pdset.table_to_df(\".db/parsed.db\", table)\n",
    "    min_lon = data.LON.min()\n",
    "    max_lon = data.LON.max()\n",
    "    min_lat = data.LAT.min()\n",
    "    max_lat = data.LAT.max()\n",
    "    min_lon, min_lat, max_lon, max_lat = inflate_bounds(min_lon, min_lat, max_lon, max_lat, 0.25)\n",
    "    gravity_map = get_map_section(min_lon, max_lon, min_lat, max_lat, \"gravity\", \"01m\", \"temp\")\n",
    "    d_gravity = np.hstack([d_gravity, data[\"GRAV_ANOM\"] - get_map_point(gravity_map, data.LON, data.LAT)])\n",
    "\n",
    "config[\"gravity_mean_d\"] = np.mean(d_gravity, where=~np.isnan(d_gravity))\n",
    "config[\"gravity_std\"] = np.std(d_gravity, where=~np.isnan(d_gravity))\n",
    "\n",
    "if os.path.exists(\"config.json\"):\n",
    "    # delete the file\n",
    "    os.remove(\"config.json\")\n",
    "\n",
    "with open(\"config.json\", \"w\") as f:\n",
    "    json.dump(config, f)\n",
    "\n",
    "plt.hist(d_gravity, bins=100, density=True)\n",
    "plt.xlim([-50, 75])\n",
    "plt.xlabel(\"Gravity Difference (mGal)\")\n",
    "plt.ylabel(\"Frequency\")\n",
    "plt.title(\"Gravity Anomaly Difference\")\n",
    "plt.savefig(\".db/plots/gravity_diff.png\")\n",
    "plt.show()"
   ]
  },
  {
   "cell_type": "markdown",
   "metadata": {},
   "source": [
    "# Magnetics\n",
    "\n",
    "Recreation with magnetics"
   ]
  },
  {
   "cell_type": "code",
   "execution_count": null,
   "metadata": {},
   "outputs": [],
   "source": [
    "from src.gmt_tool import inflate_bounds, get_map_section, get_map_point\n",
    "import numpy as np\n",
    "import json\n",
    "\n",
    "config = json.load(open(\"config.json\", \"r\"))\n",
    "tables = pdset.get_tables(\".db/parsed.db\")\n",
    "mag_tables = [table for table in tables if \"_M_\" in table]\n",
    "\n",
    "df = pdset.table_to_df(\".db/parsed.db\", mag_tables[0])\n",
    "df.head()"
   ]
  },
  {
   "cell_type": "code",
   "execution_count": null,
   "metadata": {},
   "outputs": [],
   "source": [
    "d_magnetics = np.array([])\n",
    "\n",
    "for table in mag_tables:\n",
    "    data = pdset.table_to_df(\".db/parsed.db\", table)\n",
    "    min_lon = data.LON.min()\n",
    "    max_lon = data.LON.max()\n",
    "    min_lat = data.LAT.min()\n",
    "    max_lat = data.LAT.max()\n",
    "    min_lon, min_lat, max_lon, max_lat = inflate_bounds(min_lon, min_lat, max_lon, max_lat, 0.25)\n",
    "    mag_map = get_map_section(min_lon, max_lon, min_lat, max_lat, \"magnetic\", \"02m\", \"temp\")\n",
    "    d_magnetics = np.hstack([d_magnetics, data[\"MAG_RES\"] - get_map_point(mag_map, data.LON, data.LAT)])\n",
    "\n",
    "config[\"magnetic_mean_d\"] = np.mean(d_magnetics, where=~np.isnan(d_magnetics))\n",
    "config[\"magnetic_std\"] = np.std(d_magnetics, where=~np.isnan(d_magnetics))\n",
    "\n",
    "if os.path.exists(\"config.json\"):\n",
    "    # delete the file\n",
    "    os.remove(\"config.json\")\n",
    "\n",
    "with open(\"config.json\", \"w\") as f:\n",
    "    json.dump(config, f)"
   ]
  },
  {
   "cell_type": "code",
   "execution_count": null,
   "metadata": {},
   "outputs": [],
   "source": [
    "plt.hist(d_magnetics, bins=100, density=True)\n",
    "plt.xlim([-500, 500])\n",
    "plt.xlabel(\"Magnetic Difference (nT)\")\n",
    "plt.ylabel(\"Frequency\")\n",
    "plt.title(\"Magnetic Residual Difference\")\n",
    "plt.savefig(\".db/plots/mag_diff.png\")\n",
    "plt.show()"
   ]
  },
  {
   "cell_type": "code",
   "execution_count": null,
   "metadata": {},
   "outputs": [],
   "source": [
    "if not \"\":\n",
    "    print(\"EMPTY\")"
   ]
  },
  {
   "cell_type": "code",
   "execution_count": null,
   "metadata": {},
   "outputs": [],
   "source": [
    "st = [str(i) for i in range(10)]"
   ]
  },
  {
   "cell_type": "code",
   "execution_count": null,
   "metadata": {},
   "outputs": [],
   "source": [
    "ST = \"\".join(st)"
   ]
  },
  {
   "cell_type": "code",
   "execution_count": null,
   "metadata": {},
   "outputs": [],
   "source": [
    "ST"
   ]
  },
  {
   "cell_type": "code",
   "execution_count": null,
   "metadata": {},
   "outputs": [],
   "source": [
    "\"A\" in \"AaBbCc\""
   ]
  },
  {
   "cell_type": "code",
   "execution_count": null,
   "metadata": {},
   "outputs": [],
   "source": [
    "trx, names = tbx.parse_trackline_from_file(\"./test/test_data.csv\")"
   ]
  },
  {
   "cell_type": "code",
   "execution_count": null,
   "metadata": {},
   "outputs": [],
   "source": [
    "names"
   ]
  },
  {
   "cell_type": "code",
   "execution_count": null,
   "metadata": {},
   "outputs": [],
   "source": [
    "if not []:\n",
    "    print(\"EMPTY\")"
   ]
  },
  {
   "cell_type": "code",
   "execution_count": null,
   "metadata": {},
   "outputs": [],
   "source": [
    "\"G\" in \"DMG\""
   ]
  },
  {
   "cell_type": "code",
   "execution_count": null,
   "metadata": {},
   "outputs": [],
   "source": [
    "import pandas as pd"
   ]
  },
  {
   "cell_type": "code",
   "execution_count": null,
   "metadata": {},
   "outputs": [],
   "source": [
    "pd.read_csv(\"78123006.csv\")"
   ]
  },
  {
   "cell_type": "code",
   "execution_count": null,
   "metadata": {},
   "outputs": [],
   "source": [
    "import pandas as pd"
   ]
  },
  {
   "cell_type": "code",
   "execution_count": null,
   "metadata": {},
   "outputs": [],
   "source": [
    "df = pd.read_csv(\n",
    "    \"./test/test_data.m77t\",\n",
    "    header=0,\n",
    "    index_col=0,\n",
    "    parse_dates=True,\n",
    "    dtype={\n",
    "        \"LAT\": float,\n",
    "        \"LON\": float,\n",
    "        \"CORR_DEPTH\": float,\n",
    "        \"MAG_TOT\": float,\n",
    "        \"MAG_RES\": float,\n",
    "        \"GRA_OBS\": float,\n",
    "        \"FREEAIR\": float,\n",
    "    },\n",
    ")"
   ]
  },
  {
   "cell_type": "code",
   "execution_count": null,
   "metadata": {},
   "outputs": [],
   "source": [
    "df.head()"
   ]
  },
  {
   "cell_type": "code",
   "execution_count": null,
   "metadata": {},
   "outputs": [],
   "source": [
    "df.drop(\"AB\")"
   ]
  },
  {
   "cell_type": "code",
   "execution_count": null,
   "metadata": {},
   "outputs": [],
   "source": [
    "from src.data_manager import m77t as tbx\n",
    "import pandas as pd"
   ]
  },
  {
   "cell_type": "code",
   "execution_count": null,
   "metadata": {},
   "outputs": [],
   "source": [
    "data = tbx.read_m77t(\"./source_data/78123006.m77t\")\n",
    "data = tbx.m77t_to_df(data)"
   ]
  },
  {
   "cell_type": "code",
   "execution_count": null,
   "metadata": {},
   "outputs": [],
   "source": [
    "schema = pd.io.json.build_table_schema(data)\n",
    "schema"
   ]
  },
  {
   "cell_type": "code",
   "execution_count": null,
   "metadata": {},
   "outputs": [],
   "source": [
    "from sqlalchemy import create_engine\n",
    "\n",
    "\n",
    "def get_engine(server, database, username, password):\n",
    "    \"\"\"Creates and returns an SQLAlchemy engine for SQL Server.\"\"\"\n",
    "    connection_string = f\"mssql+pyodbc://{username}:{password}@{server}/{database}?driver=ODBC+Driver+17+for+SQL+Server\"\n",
    "    engine = create_engine(connection_string)\n",
    "    return engine"
   ]
  },
  {
   "cell_type": "code",
   "execution_count": null,
   "metadata": {},
   "outputs": [],
   "source": [
    "from sqlalchemy import Table, Column, Integer, String, MetaData, select\n",
    "from sqlalchemy.dialects.mssql import NVARCHAR, FLOAT\n",
    "\n",
    "metadata = MetaData()\n",
    "\n",
    "# Define your table schema as reflected from the database or defined by your application\n",
    "collections = Table(\n",
    "    \"Collections\",\n",
    "    metadata,\n",
    "    Column(\"CollectionID\", Integer, primary_key=True),\n",
    "    Column(\"CollectionName\", NVARCHAR(255), nullable=False),\n",
    "    Column(\"Description\", NVARCHAR(\"max\")),\n",
    ")\n",
    "\n",
    "\n",
    "def insert_collection(engine, collection_name, description=\"\"):\n",
    "    \"\"\"Insert a new collection using SQLAlchemy and return its CollectionID.\"\"\"\n",
    "    insert_stmt = collections.insert().values(CollectionName=collection_name, Description=description)\n",
    "    with engine.connect() as conn:\n",
    "        result = conn.execute(insert_stmt)\n",
    "        conn.commit()\n",
    "        collection_id = result.inserted_primary_key[0]  # Get the primary key of the inserted record\n",
    "    return collection_id\n",
    "\n",
    "\n",
    "def upload_data(df, collection_id, engine):\n",
    "    \"\"\"Uploads data from a DataFrame to the RawData table, linking it to the specified CollectionID.\"\"\"\n",
    "    df[\"CollectionID\"] = collection_id  # Add CollectionID to the DataFrame\n",
    "    df.to_sql(name=\"RawData\", con=engine, if_exists=\"append\", index=False)\n",
    "\n",
    "\n",
    "def query_data_by_collection(collection_id, engine):\n",
    "    \"\"\"Queries data for a specific collection and returns it as a DataFrame.\"\"\"\n",
    "    query = f\"SELECT * FROM RawData WHERE CollectionID = {collection_id}\"\n",
    "    return pd.read_sql_query(query, con=engine)"
   ]
  },
  {
   "cell_type": "code",
   "execution_count": null,
   "metadata": {},
   "outputs": [],
   "source": [
    "data.head()"
   ]
  },
  {
   "cell_type": "code",
   "execution_count": null,
   "metadata": {},
   "outputs": [],
   "source": [
    "engine = get_engine(\"localhost\", \"geonavdb\", \"sa\", \"2016SpringGardenStreet!\")"
   ]
  },
  {
   "cell_type": "code",
   "execution_count": null,
   "metadata": {},
   "outputs": [],
   "source": [
    "col_id = insert_collection(engine, \"test_collection\", \"This is a test collection\")"
   ]
  },
  {
   "cell_type": "code",
   "execution_count": null,
   "metadata": {},
   "outputs": [],
   "source": []
  },
  {
   "cell_type": "code",
   "execution_count": null,
   "metadata": {},
   "outputs": [],
   "source": []
  }
 ],
 "metadata": {
  "kernelspec": {
   "display_name": "Python 3",
   "language": "python",
   "name": "python3"
  },
  "language_info": {
   "codemirror_mode": {
    "name": "ipython",
    "version": 3
   },
   "file_extension": ".py",
   "mimetype": "text/x-python",
   "name": "python",
   "nbconvert_exporter": "python",
   "pygments_lexer": "ipython3",
   "version": "3.12.8"
  }
 },
 "nbformat": 4,
 "nbformat_minor": 2
}
