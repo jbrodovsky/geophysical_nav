{
 "cells": [
  {
   "cell_type": "markdown",
   "metadata": {},
   "source": [
    "# Deep Water Bathymetric Particle Filter Experiment\n",
    "\n",
    "This notebook runs the experiment testing the capabilities of the particle filter to conduct navigation using deep water bathymetry and for long duration.\n",
    "\n",
    "## Data set preparation\n",
    "\n",
    "First need to process the .m77t files in `source_data` into our database format."
   ]
  },
  {
   "cell_type": "code",
   "execution_count": 17,
   "metadata": {},
   "outputs": [],
   "source": [
    "from src import process_dataset as pdset\n",
    "import os\n",
    "import pandas as pd"
   ]
  },
  {
   "cell_type": "markdown",
   "metadata": {},
   "source": [
    "### Preprocess tracklines into sql/df format"
   ]
  },
  {
   "cell_type": "code",
   "execution_count": 18,
   "metadata": {},
   "outputs": [
    {
     "name": "stdout",
     "output_type": "stream",
     "text": [
      "Skipping file: ew0114.m77t (already processed)\n",
      "Skipping file: wi933014.m77t (already processed)\n",
      "Skipping file: ew0102.m77t (already processed)\n",
      "Skipping file: 78123006.m77t (already processed)\n",
      "Skipping file: ew0112.m77t (already processed)\n",
      "Skipping file: ew0007.m77t (already processed)\n",
      "Skipping file: index17.m77t (already processed)\n",
      "Skipping file: ew9704.m77t (already processed)\n"
     ]
    }
   ],
   "source": [
    "# Check to see if the database exists\n",
    "if not os.path.exists('.db/tracklines.db'):\n",
    "    tables = []\n",
    "else:\n",
    "    tables = pdset.get_tables('.db/tracklines.db')\n",
    "\n",
    "source_data_location = \"./source_data/\"\n",
    "# walk through the .m77t files in the source_data directory\n",
    "for root, dirs, files in os.walk(source_data_location):\n",
    "    for file in files:\n",
    "        if file.endswith(\".m77t\"):\n",
    "            # check to see if the file has already been processed\n",
    "            filename = os.path.splitext(file)[0]\n",
    "            if filename not in tables:\n",
    "                print(\"Processing file: \" + file)\n",
    "                data = pd.read_csv(os.path.join(root, file), delimiter=\"\\t\", header=0)\n",
    "                data = pdset.m77t_to_df(data)\n",
    "                # data.to_sql(\n",
    "                #    filename, sqlite3.connect(\".db/tracklines.db\"), if_exists=\"replace\"\n",
    "                # )\n",
    "                pdset.save_dataset(\n",
    "                    [data],\n",
    "                    [filename],\n",
    "                    output_location=\".db\",\n",
    "                    output_format=\"db\",\n",
    "                    dataset_name=\"tracklines\",\n",
    "                )\n",
    "            else:\n",
    "                print(\"Skipping file: \" + file + \" (already processed)\")"
   ]
  },
  {
   "cell_type": "markdown",
   "metadata": {},
   "source": [
    "### Parse the raw data into tracklines of continuous data collections"
   ]
  },
  {
   "cell_type": "code",
   "execution_count": 19,
   "metadata": {},
   "outputs": [
    {
     "name": "stdout",
     "output_type": "stream",
     "text": [
      "Processing: ew0114\n",
      "Processing: wi933014\n",
      "Processing: ew0102\n",
      "Processing: 78123006\n",
      "Processing: ew0112\n",
      "Processing: ew0007\n",
      "Processing: index17\n",
      "Processing: ew9704\n"
     ]
    }
   ],
   "source": [
    "max_time = 10 # minutes\n",
    "max_delta_t = 2 # minutes between points\n",
    "min_duration = 60 # minutes, minimum duration for a useful trackline\n",
    "\n",
    "data, names = pdset.parse_tracklines_from_db(\n",
    "    \".db/tracklines.db\",\n",
    "    #max_time,\n",
    "    #max_delta_t,\n",
    "    #min_duration,\n",
    "    data_types=[\n",
    "        \"bathy\",\n",
    "        \"mag\",\n",
    "        \"grav\",\n",
    "        [\"bathy\", \"mag\"],\n",
    "        [\"bathy\", \"grav\"],\n",
    "        [\"grav\", \"mag\"],\n",
    "        [\"bathy\", \"grav\", \"mag\"],\n",
    "    ],\n",
    ")\n",
    "# Save the parsed data to the database\n",
    "pdset.save_dataset(\n",
    "    data, names, output_location=\".db\", output_format=\"db\", dataset_name=\"parsed\"\n",
    ")\n",
    "#summary = pdset.get_parsed_data_summary(data, names)"
   ]
  },
  {
   "cell_type": "markdown",
   "metadata": {},
   "source": [
    "## Simulation parameters verification\n",
    "\n",
    "First we need to tune the particle filter propagation noise to be similar to that of a marine-grade inertial navigation system. A low-end marine-grade INS should have a drift of 1 nm per 24 hours."
   ]
  },
  {
   "cell_type": "code",
   "execution_count": 20,
   "metadata": {},
   "outputs": [
    {
     "name": "stdout",
     "output_type": "stream",
     "text": [
      "RMSE: 1858.649308335898\n"
     ]
    }
   ],
   "source": [
    "from src.particle_filter import rmse, propagate\n",
    "import numpy as np\n",
    "\n",
    "time = 24*60 # minutes\n",
    "noise = np.array([0, 2.6, 0])\n",
    "bound = 1852 # meters\n",
    "\n",
    "errors = []\n",
    "for v in range(1, 26):\n",
    "    P = np.asarray([[0,0,0,0,v,0]])\n",
    "    T = P.copy()\n",
    "    t = 0\n",
    "    for i in range(10000):\n",
    "        # Eastward\n",
    "        u = [0,v,0]\n",
    "        while t < time:    \n",
    "            P = propagate(P, u, noise=np.diag(noise), noise_calibration_mode=True)\n",
    "            T = propagate(T, u, noise=np.diag([0,0,0]), noise_calibration_mode=False)\n",
    "            t+=1\n",
    "        errors.append(rmse(P, T[0, :2]))\n",
    "        # Northward\n",
    "        u = [v,0,0]\n",
    "        while t < time:    \n",
    "            P = propagate(P, u, noise=np.diag(noise), noise_calibration_mode=True)\n",
    "            T = propagate(T, u, noise=np.diag([0,0,0]), noise_calibration_mode=False)\n",
    "            t+=1\n",
    "        errors.append(rmse(P, T[0, :2]))\n",
    "        # Northeastward \n",
    "        u = np.array([1,1,0]) / np.linalg.norm([1,1,0])\n",
    "        u *= v\n",
    "        while t < time:    \n",
    "            P = propagate(P, u, noise=np.diag(noise), noise_calibration_mode=True)\n",
    "            T = propagate(T, u, noise=np.diag([0,0,0]), noise_calibration_mode=False)\n",
    "            t+=1\n",
    "        errors.append(rmse(P, T[0, :2]))\n",
    "\n",
    "print(f\"RMSE: {np.mean(errors)}\")"
   ]
  },
  {
   "cell_type": "code",
   "execution_count": 21,
   "metadata": {},
   "outputs": [
    {
     "data": {
      "image/png": "[encoded data removed]",
      "text/plain": [
       "<Figure size 640x480 with 1 Axes>"
      ]
     },
     "metadata": {},
     "output_type": "display_data"
    }
   ],
   "source": [
    "from matplotlib import pyplot as plt\n",
    "\n",
    "plt.hist(errors, bins=50)\n",
    "plt.xlabel(\"RMSE (m)\")\n",
    "plt.ylabel(\"Frequency\")\n",
    "plt.title(\"RMSE of Particle Filter\")\n",
    "plt.savefig(\".db/plots/propagation_tuning.png\")\n",
    "plt.show()"
   ]
  },
  {
   "cell_type": "code",
   "execution_count": 22,
   "metadata": {},
   "outputs": [],
   "source": [
    "config = {\"velocity_noise\": [noise[1], noise[1], 0]}"
   ]
  },
  {
   "cell_type": "markdown",
   "metadata": {},
   "source": [
    "Next we need to develop the measurement value standard deviation. We'll first do some general examination of the data. Namely, investigating the sensor measurements to see if we can build a reasonable sensor model."
   ]
  },
  {
   "cell_type": "code",
   "execution_count": 23,
   "metadata": {},
   "outputs": [
    {
     "data": {
      "image/png": "[encoded data removed]",
      "text/plain": [
       "<Figure size 640x480 with 1 Axes>"
      ]
     },
     "metadata": {},
     "output_type": "display_data"
    }
   ],
   "source": [
    "from src.gmt_tool import inflate_bounds, get_map_section, get_map_point\n",
    "import numpy as np\n",
    "\n",
    "tables = pdset.get_tables(\".db/parsed.db\")\n",
    "bathy_tables = [table for table in tables if \"_D_\" in table]\n",
    "\n",
    "d_bathy = np.array([])\n",
    "\n",
    "for table in bathy_tables:\n",
    "    data = pdset.table_to_df(\".db/parsed.db\", table)\n",
    "    min_lon = data.LON.min()\n",
    "    max_lon = data.LON.max()\n",
    "    min_lat = data.LAT.min()\n",
    "    max_lat = data.LAT.max()\n",
    "    min_lon, min_lat, max_lon, max_lat = inflate_bounds(min_lon, min_lat, max_lon, max_lat, 0.25)\n",
    "    bathy_map = get_map_section(min_lon, max_lon, min_lat, max_lat, 'relief', '15s', \"temp\")\n",
    "    d_bathy = np.hstack([d_bathy, data['DEPTH'] - (-get_map_point(bathy_map, data.LON, data.LAT))])\n",
    "\n",
    "config['bathy_mean_d'] = np.mean(d_bathy, where=~np.isnan(d_bathy))\n",
    "config['bathy_std'] = np.std(d_bathy, where=~np.isnan(d_bathy))\n",
    "\n",
    "plt.hist(d_bathy, bins=100)\n",
    "plt.xlim([-250,250])\n",
    "plt.xlabel(\"Depth Difference (m)\")\n",
    "plt.ylabel(\"Frequency\")\n",
    "plt.title(\"Bathymetry Difference\")\n",
    "plt.savefig(\".db/plots/bathy_diff.png\")\n",
    "plt.show()"
   ]
  },
  {
   "cell_type": "code",
   "execution_count": 24,
   "metadata": {},
   "outputs": [],
   "source": [
    "import json\n",
    "\n",
    "with open(\"config.json\", \"w\") as f:\n",
    "    json.dump(config, f)"
   ]
  },
  {
   "cell_type": "markdown",
   "metadata": {},
   "source": [
    "### Populate with velocities"
   ]
  },
  {
   "cell_type": "code",
   "execution_count": 25,
   "metadata": {},
   "outputs": [],
   "source": [
    "from src.particle_filter import process_particle_filter, populate_velocities, plot_error, plot_estimate, summarize_results\n",
    "import json\n",
    "import src.process_dataset as pdset\n",
    "from tqdm import tqdm\n",
    "import pandas as pd\n",
    "import os"
   ]
  },
  {
   "cell_type": "code",
   "execution_count": 26,
   "metadata": {},
   "outputs": [],
   "source": [
    "tables = pdset.get_tables(\".db/parsed.db\")\n",
    "bathy_tables = [table for table in tables if \"_D_\" in table]\n",
    "config = json.load(open(\"config.json\", \"r\"))\n",
    "config[\"n\"] = 10000\n",
    "config[\"cov\"] = [1/60, 1/60, 0, config[\"velocity_noise\"][0], config[\"velocity_noise\"][1], 0]\n",
    "\n",
    "with open(\"config.json\", \"w\") as f:\n",
    "    json.dump(config, f)"
   ]
  },
  {
   "cell_type": "code",
   "execution_count": 27,
   "metadata": {},
   "outputs": [
    {
     "data": {
      "text/plain": [
       "{'velocity_noise': [2.6, 2.6, 0],\n",
       " 'bathy_mean_d': 21.285045267468078,\n",
       " 'bathy_std': 215.01077619593897,\n",
       " 'n': 10000,\n",
       " 'cov': [0.016666666666666666, 0.016666666666666666, 0, 2.6, 2.6, 0]}"
      ]
     },
     "execution_count": 27,
     "metadata": {},
     "output_type": "execute_result"
    }
   ],
   "source": [
    "config"
   ]
  },
  {
   "cell_type": "code",
   "execution_count": 28,
   "metadata": {},
   "outputs": [
    {
     "name": "stderr",
     "output_type": "stream",
     "text": [
      "  0%|          | 1/247 [00:14<1:00:17, 14.71s/it]/home/james/research_workspace/geophysical_nav/src/particle_filter.py:106: RuntimeWarning: invalid value encountered in divide\n",
      "  new_weights = w / w_sum\n",
      "/home/james/miniconda3/envs/nav/lib/python3.11/site-packages/filterpy/monte_carlo/resampling.py:61: RuntimeWarning: invalid value encountered in cast\n",
      "  num_copies = (np.floor(N*np.asarray(weights))).astype(int)\n",
      "  1%|          | 2/247 [33:56<81:22:03, 1195.60s/it]/home/james/research_workspace/geophysical_nav/src/particle_filter.py:106: RuntimeWarning: invalid value encountered in divide\n",
      "  new_weights = w / w_sum\n",
      "/home/james/miniconda3/envs/nav/lib/python3.11/site-packages/filterpy/monte_carlo/resampling.py:61: RuntimeWarning: invalid value encountered in cast\n",
      "  num_copies = (np.floor(N*np.asarray(weights))).astype(int)\n",
      "  1%|          | 3/247 [52:47<79:01:23, 1165.92s/it]/home/james/research_workspace/geophysical_nav/src/particle_filter.py:106: RuntimeWarning: invalid value encountered in divide\n",
      "  new_weights = w / w_sum\n",
      "/home/james/miniconda3/envs/nav/lib/python3.11/site-packages/filterpy/monte_carlo/resampling.py:61: RuntimeWarning: invalid value encountered in cast\n",
      "  num_copies = (np.floor(N*np.asarray(weights))).astype(int)\n",
      "  2%|▏         | 4/247 [55:04<51:17:27, 759.87s/it] /home/james/research_workspace/geophysical_nav/src/particle_filter.py:106: RuntimeWarning: invalid value encountered in divide\n",
      "  new_weights = w / w_sum\n",
      "/home/james/miniconda3/envs/nav/lib/python3.11/site-packages/filterpy/monte_carlo/resampling.py:61: RuntimeWarning: invalid value encountered in cast\n",
      "  num_copies = (np.floor(N*np.asarray(weights))).astype(int)\n",
      "  2%|▏         | 5/247 [1:01:49<42:28:30, 631.86s/it]/home/james/research_workspace/geophysical_nav/src/particle_filter.py:106: RuntimeWarning: invalid value encountered in divide\n",
      "  new_weights = w / w_sum\n",
      "/home/james/miniconda3/envs/nav/lib/python3.11/site-packages/filterpy/monte_carlo/resampling.py:61: RuntimeWarning: invalid value encountered in cast\n",
      "  num_copies = (np.floor(N*np.asarray(weights))).astype(int)\n",
      "  2%|▏         | 6/247 [1:03:26<30:06:47, 449.82s/it]/home/james/research_workspace/geophysical_nav/src/particle_filter.py:106: RuntimeWarning: invalid value encountered in divide\n",
      "  new_weights = w / w_sum\n",
      "/home/james/miniconda3/envs/nav/lib/python3.11/site-packages/filterpy/monte_carlo/resampling.py:61: RuntimeWarning: invalid value encountered in cast\n",
      "  num_copies = (np.floor(N*np.asarray(weights))).astype(int)\n",
      "  3%|▎         | 7/247 [1:18:18<39:37:14, 594.31s/it]/home/james/research_workspace/geophysical_nav/src/particle_filter.py:106: RuntimeWarning: invalid value encountered in divide\n",
      "  new_weights = w / w_sum\n",
      "/home/james/miniconda3/envs/nav/lib/python3.11/site-packages/filterpy/monte_carlo/resampling.py:61: RuntimeWarning: invalid value encountered in cast\n",
      "  num_copies = (np.floor(N*np.asarray(weights))).astype(int)\n",
      "  3%|▎         | 8/247 [1:20:14<29:21:39, 442.26s/it]/home/james/research_workspace/geophysical_nav/src/particle_filter.py:106: RuntimeWarning: invalid value encountered in divide\n",
      "  new_weights = w / w_sum\n",
      "/home/james/miniconda3/envs/nav/lib/python3.11/site-packages/filterpy/monte_carlo/resampling.py:61: RuntimeWarning: invalid value encountered in cast\n",
      "  num_copies = (np.floor(N*np.asarray(weights))).astype(int)\n",
      "  4%|▎         | 9/247 [1:22:03<22:21:19, 338.15s/it]/home/james/research_workspace/geophysical_nav/src/particle_filter.py:106: RuntimeWarning: invalid value encountered in divide\n",
      "  new_weights = w / w_sum\n",
      "/home/james/miniconda3/envs/nav/lib/python3.11/site-packages/filterpy/monte_carlo/resampling.py:61: RuntimeWarning: invalid value encountered in cast\n",
      "  num_copies = (np.floor(N*np.asarray(weights))).astype(int)\n",
      "  4%|▍         | 10/247 [1:23:42<17:23:28, 264.17s/it]/home/james/research_workspace/geophysical_nav/src/particle_filter.py:106: RuntimeWarning: invalid value encountered in divide\n",
      "  new_weights = w / w_sum\n",
      "/home/james/miniconda3/envs/nav/lib/python3.11/site-packages/filterpy/monte_carlo/resampling.py:61: RuntimeWarning: invalid value encountered in cast\n",
      "  num_copies = (np.floor(N*np.asarray(weights))).astype(int)\n",
      "  4%|▍         | 11/247 [1:25:22<14:01:19, 213.89s/it]/home/james/research_workspace/geophysical_nav/src/particle_filter.py:106: RuntimeWarning: invalid value encountered in divide\n",
      "  new_weights = w / w_sum\n",
      "/home/james/miniconda3/envs/nav/lib/python3.11/site-packages/filterpy/monte_carlo/resampling.py:61: RuntimeWarning: invalid value encountered in cast\n",
      "  num_copies = (np.floor(N*np.asarray(weights))).astype(int)\n",
      "  5%|▍         | 12/247 [1:27:01<11:41:18, 179.06s/it]/home/james/research_workspace/geophysical_nav/src/particle_filter.py:106: RuntimeWarning: invalid value encountered in divide\n",
      "  new_weights = w / w_sum\n",
      "/home/james/miniconda3/envs/nav/lib/python3.11/site-packages/filterpy/monte_carlo/resampling.py:61: RuntimeWarning: invalid value encountered in cast\n",
      "  num_copies = (np.floor(N*np.asarray(weights))).astype(int)\n",
      "  5%|▌         | 13/247 [1:28:41<10:04:21, 154.96s/it]/home/james/research_workspace/geophysical_nav/src/particle_filter.py:106: RuntimeWarning: invalid value encountered in divide\n",
      "  new_weights = w / w_sum\n",
      "/home/james/miniconda3/envs/nav/lib/python3.11/site-packages/filterpy/monte_carlo/resampling.py:61: RuntimeWarning: invalid value encountered in cast\n",
      "  num_copies = (np.floor(N*np.asarray(weights))).astype(int)\n",
      "  6%|▌         | 14/247 [1:30:36<9:14:39, 142.83s/it] /home/james/research_workspace/geophysical_nav/src/particle_filter.py:106: RuntimeWarning: invalid value encountered in divide\n",
      "  new_weights = w / w_sum\n",
      "/home/james/miniconda3/envs/nav/lib/python3.11/site-packages/filterpy/monte_carlo/resampling.py:61: RuntimeWarning: invalid value encountered in cast\n",
      "  num_copies = (np.floor(N*np.asarray(weights))).astype(int)\n",
      "  6%|▌         | 15/247 [1:32:38<8:47:59, 136.55s/it]/home/james/research_workspace/geophysical_nav/src/particle_filter.py:106: RuntimeWarning: invalid value encountered in divide\n",
      "  new_weights = w / w_sum\n",
      "/home/james/miniconda3/envs/nav/lib/python3.11/site-packages/filterpy/monte_carlo/resampling.py:61: RuntimeWarning: invalid value encountered in cast\n",
      "  num_copies = (np.floor(N*np.asarray(weights))).astype(int)\n",
      "  6%|▋         | 16/247 [1:34:30<8:17:49, 129.31s/it]/home/james/research_workspace/geophysical_nav/src/particle_filter.py:106: RuntimeWarning: invalid value encountered in divide\n",
      "  new_weights = w / w_sum\n",
      "/home/james/miniconda3/envs/nav/lib/python3.11/site-packages/filterpy/monte_carlo/resampling.py:61: RuntimeWarning: invalid value encountered in cast\n",
      "  num_copies = (np.floor(N*np.asarray(weights))).astype(int)\n",
      "  8%|▊         | 20/247 [2:08:26<21:56:32, 347.98s/it]/home/james/research_workspace/geophysical_nav/src/particle_filter.py:106: RuntimeWarning: invalid value encountered in divide\n",
      "  new_weights = w / w_sum\n",
      "/home/james/miniconda3/envs/nav/lib/python3.11/site-packages/filterpy/monte_carlo/resampling.py:61: RuntimeWarning: invalid value encountered in cast\n",
      "  num_copies = (np.floor(N*np.asarray(weights))).astype(int)\n",
      "  9%|▊         | 21/247 [2:09:37<16:37:59, 264.95s/it]/home/james/research_workspace/geophysical_nav/src/particle_filter.py:106: RuntimeWarning: invalid value encountered in divide\n",
      "  new_weights = w / w_sum\n",
      "/home/james/miniconda3/envs/nav/lib/python3.11/site-packages/filterpy/monte_carlo/resampling.py:61: RuntimeWarning: invalid value encountered in cast\n",
      "  num_copies = (np.floor(N*np.asarray(weights))).astype(int)\n",
      "  9%|▊         | 21/247 [3:02:25<32:43:15, 521.22s/it]\n"
     ]
    },
    {
     "ename": "KeyboardInterrupt",
     "evalue": "",
     "output_type": "error",
     "traceback": [
      "\u001b[0;31m---------------------------------------------------------------------------\u001b[0m",
      "\u001b[0;31mKeyboardInterrupt\u001b[0m                         Traceback (most recent call last)",
      "Cell \u001b[0;32mIn[28], line 12\u001b[0m\n\u001b[1;32m     10\u001b[0m df \u001b[38;5;241m=\u001b[39m pdset\u001b[38;5;241m.\u001b[39mtable_to_df(\u001b[38;5;124m\"\u001b[39m\u001b[38;5;124m.db/parsed.db\u001b[39m\u001b[38;5;124m\"\u001b[39m, table)\n\u001b[1;32m     11\u001b[0m df \u001b[38;5;241m=\u001b[39m populate_velocities(df)\n\u001b[0;32m---> 12\u001b[0m results, geo_map \u001b[38;5;241m=\u001b[39m process_particle_filter(df, config)\n\u001b[1;32m     13\u001b[0m run \u001b[38;5;241m=\u001b[39m summarize_results(results, \u001b[38;5;241m1852\u001b[39m)\n\u001b[1;32m     14\u001b[0m run[\u001b[38;5;124m\"\u001b[39m\u001b[38;5;124mName\u001b[39m\u001b[38;5;124m\"\u001b[39m] \u001b[38;5;241m=\u001b[39m table\n",
      "File \u001b[0;32m~/research_workspace/geophysical_nav/src/particle_filter.py:203\u001b[0m, in \u001b[0;36mprocess_particle_filter\u001b[0;34m(data, configurations, map_type, map_resolution)\u001b[0m\n\u001b[1;32m    194\u001b[0m n \u001b[38;5;241m=\u001b[39m configurations[\u001b[38;5;124m\"\u001b[39m\u001b[38;5;124mn\u001b[39m\u001b[38;5;124m\"\u001b[39m]\n\u001b[1;32m    195\u001b[0m \u001b[38;5;66;03m# Run particle filter\u001b[39;00m\n\u001b[1;32m    196\u001b[0m \u001b[38;5;66;03m# estimates = []\u001b[39;00m\n\u001b[1;32m    197\u001b[0m \u001b[38;5;66;03m# rms_errors = []\u001b[39;00m\n\u001b[0;32m   (...)\u001b[0m\n\u001b[1;32m    201\u001b[0m \u001b[38;5;66;03m#    repetitions = 1\u001b[39;00m\n\u001b[1;32m    202\u001b[0m \u001b[38;5;66;03m# for _ in range(repetitions):\u001b[39;00m\n\u001b[0;32m--> 203\u001b[0m estimate, rms_error \u001b[38;5;241m=\u001b[39m run_particle_filter(\n\u001b[1;32m    204\u001b[0m     mu, cov, n, data, geo_map, noise, measurement_sigma\n\u001b[1;32m    205\u001b[0m )\n\u001b[1;32m    206\u001b[0m \u001b[38;5;66;03m#    estimates.append(estimate)\u001b[39;00m\n\u001b[1;32m    207\u001b[0m \u001b[38;5;66;03m#    rms_errors.append(rms_error)\u001b[39;00m\n\u001b[1;32m    208\u001b[0m \n\u001b[0;32m   (...)\u001b[0m\n\u001b[1;32m    218\u001b[0m \u001b[38;5;66;03m# fig.savefig(os.path.join(output_dir, name, map_type, \"error.png\"))\u001b[39;00m\n\u001b[1;32m    219\u001b[0m \u001b[38;5;66;03m# plt.close(\"all\")\u001b[39;00m\n\u001b[1;32m    220\u001b[0m data[[\u001b[38;5;124m\"\u001b[39m\u001b[38;5;124mPF_LAT\u001b[39m\u001b[38;5;124m\"\u001b[39m, \u001b[38;5;124m\"\u001b[39m\u001b[38;5;124mPF_LON\u001b[39m\u001b[38;5;124m\"\u001b[39m, \u001b[38;5;124m\"\u001b[39m\u001b[38;5;124mPF_DEPTH\u001b[39m\u001b[38;5;124m\"\u001b[39m, \u001b[38;5;124m\"\u001b[39m\u001b[38;5;124mPF_VN\u001b[39m\u001b[38;5;124m\"\u001b[39m, \u001b[38;5;124m\"\u001b[39m\u001b[38;5;124mPF_VE\u001b[39m\u001b[38;5;124m\"\u001b[39m, \u001b[38;5;124m\"\u001b[39m\u001b[38;5;124mPF_VD\u001b[39m\u001b[38;5;124m\"\u001b[39m]] \u001b[38;5;241m=\u001b[39m estimate\n",
      "File \u001b[0;32m~/research_workspace/geophysical_nav/src/particle_filter.py:140\u001b[0m, in \u001b[0;36mrun_particle_filter\u001b[0;34m(mu, cov, n, data, geo_map, noise, measurement_sigma)\u001b[0m\n\u001b[1;32m    138\u001b[0m \u001b[38;5;66;03m# Update\u001b[39;00m\n\u001b[1;32m    139\u001b[0m obs \u001b[38;5;241m=\u001b[39m row[\u001b[38;5;124m\"\u001b[39m\u001b[38;5;124mDEPTH\u001b[39m\u001b[38;5;124m\"\u001b[39m]\n\u001b[0;32m--> 140\u001b[0m weights \u001b[38;5;241m=\u001b[39m update_relief(particles, geo_map, obs, measurement_sigma)\n\u001b[1;32m    141\u001b[0m \u001b[38;5;66;03m# Resample\u001b[39;00m\n\u001b[1;32m    142\u001b[0m inds \u001b[38;5;241m=\u001b[39m residual_resample(weights)\n",
      "File \u001b[0;32m~/research_workspace/geophysical_nav/src/particle_filter.py:92\u001b[0m, in \u001b[0;36mupdate_relief\u001b[0;34m(particles, geo_map, observation, relief_sigma)\u001b[0m\n\u001b[1;32m     90\u001b[0m observation \u001b[38;5;241m=\u001b[39m np\u001b[38;5;241m.\u001b[39mtile(observation, (n,))\n\u001b[1;32m     91\u001b[0m observation \u001b[38;5;241m-\u001b[39m\u001b[38;5;241m=\u001b[39m particles[:, \u001b[38;5;241m2\u001b[39m]\n\u001b[0;32m---> 92\u001b[0m z_bar \u001b[38;5;241m=\u001b[39m \u001b[38;5;241m-\u001b[39mget_map_point(geo_map, particles[:, \u001b[38;5;241m1\u001b[39m], particles[:, \u001b[38;5;241m0\u001b[39m])\n\u001b[1;32m     93\u001b[0m dz \u001b[38;5;241m=\u001b[39m observation \u001b[38;5;241m-\u001b[39m z_bar\n\u001b[1;32m     94\u001b[0m w \u001b[38;5;241m=\u001b[39m np\u001b[38;5;241m.\u001b[39mzeros_like(dz)\n",
      "File \u001b[0;32m~/research_workspace/geophysical_nav/src/gmt_tool.py:85\u001b[0m, in \u001b[0;36mget_map_point\u001b[0;34m(geo_map, longitudes, latitudes)\u001b[0m\n\u001b[1;32m     83\u001b[0m longitudes \u001b[38;5;241m=\u001b[39m xr\u001b[38;5;241m.\u001b[39mDataArray(longitudes)\n\u001b[1;32m     84\u001b[0m latitudes \u001b[38;5;241m=\u001b[39m xr\u001b[38;5;241m.\u001b[39mDataArray(latitudes)\n\u001b[0;32m---> 85\u001b[0m vals \u001b[38;5;241m=\u001b[39m geo_map\u001b[38;5;241m.\u001b[39minterp(lon\u001b[38;5;241m=\u001b[39mlongitudes, lat\u001b[38;5;241m=\u001b[39mlatitudes)\n\u001b[1;32m     86\u001b[0m \u001b[38;5;66;03m# if longitudes.shape == latitudes.shape and longitudes.shape > (1,):\u001b[39;00m\n\u001b[1;32m     87\u001b[0m \u001b[38;5;66;03m#    return vals.data.diagonal()\u001b[39;00m\n\u001b[1;32m     88\u001b[0m \u001b[38;5;66;03m# else:\u001b[39;00m\n\u001b[1;32m     89\u001b[0m \u001b[38;5;66;03m#    return vals.data\u001b[39;00m\n\u001b[1;32m     90\u001b[0m \u001b[38;5;28;01mreturn\u001b[39;00m vals\u001b[38;5;241m.\u001b[39mdata\n",
      "File \u001b[0;32m~/miniconda3/envs/nav/lib/python3.11/site-packages/xarray/core/dataarray.py:2204\u001b[0m, in \u001b[0;36mDataArray.interp\u001b[0;34m(self, coords, method, assume_sorted, kwargs, **coords_kwargs)\u001b[0m\n\u001b[1;32m   2199\u001b[0m \u001b[38;5;28;01mif\u001b[39;00m \u001b[38;5;28mself\u001b[39m\u001b[38;5;241m.\u001b[39mdtype\u001b[38;5;241m.\u001b[39mkind \u001b[38;5;129;01mnot\u001b[39;00m \u001b[38;5;129;01min\u001b[39;00m \u001b[38;5;124m\"\u001b[39m\u001b[38;5;124muifc\u001b[39m\u001b[38;5;124m\"\u001b[39m:\n\u001b[1;32m   2200\u001b[0m     \u001b[38;5;28;01mraise\u001b[39;00m \u001b[38;5;167;01mTypeError\u001b[39;00m(\n\u001b[1;32m   2201\u001b[0m         \u001b[38;5;124m\"\u001b[39m\u001b[38;5;124minterp only works for a numeric type array. \u001b[39m\u001b[38;5;124m\"\u001b[39m\n\u001b[1;32m   2202\u001b[0m         \u001b[38;5;124m\"\u001b[39m\u001b[38;5;124mGiven \u001b[39m\u001b[38;5;132;01m{}\u001b[39;00m\u001b[38;5;124m.\u001b[39m\u001b[38;5;124m\"\u001b[39m\u001b[38;5;241m.\u001b[39mformat(\u001b[38;5;28mself\u001b[39m\u001b[38;5;241m.\u001b[39mdtype)\n\u001b[1;32m   2203\u001b[0m     )\n\u001b[0;32m-> 2204\u001b[0m ds \u001b[38;5;241m=\u001b[39m \u001b[38;5;28mself\u001b[39m\u001b[38;5;241m.\u001b[39m_to_temp_dataset()\u001b[38;5;241m.\u001b[39minterp(\n\u001b[1;32m   2205\u001b[0m     coords,\n\u001b[1;32m   2206\u001b[0m     method\u001b[38;5;241m=\u001b[39mmethod,\n\u001b[1;32m   2207\u001b[0m     kwargs\u001b[38;5;241m=\u001b[39mkwargs,\n\u001b[1;32m   2208\u001b[0m     assume_sorted\u001b[38;5;241m=\u001b[39massume_sorted,\n\u001b[1;32m   2209\u001b[0m     \u001b[38;5;241m*\u001b[39m\u001b[38;5;241m*\u001b[39mcoords_kwargs,\n\u001b[1;32m   2210\u001b[0m )\n\u001b[1;32m   2211\u001b[0m \u001b[38;5;28;01mreturn\u001b[39;00m \u001b[38;5;28mself\u001b[39m\u001b[38;5;241m.\u001b[39m_from_temp_dataset(ds)\n",
      "File \u001b[0;32m~/miniconda3/envs/nav/lib/python3.11/site-packages/xarray/core/dataset.py:3406\u001b[0m, in \u001b[0;36mDataset.interp\u001b[0;34m(self, coords, method, assume_sorted, kwargs, method_non_numeric, **coords_kwargs)\u001b[0m\n\u001b[1;32m   3399\u001b[0m     sdims \u001b[38;5;241m=\u001b[39m (\n\u001b[1;32m   3400\u001b[0m         \u001b[38;5;28mset\u001b[39m(\u001b[38;5;28mself\u001b[39m\u001b[38;5;241m.\u001b[39mdims)\n\u001b[1;32m   3401\u001b[0m         \u001b[38;5;241m.\u001b[39mintersection(\u001b[38;5;241m*\u001b[39m[\u001b[38;5;28mset\u001b[39m(nx\u001b[38;5;241m.\u001b[39mdims) \u001b[38;5;28;01mfor\u001b[39;00m nx \u001b[38;5;129;01min\u001b[39;00m indexers\u001b[38;5;241m.\u001b[39mvalues()])\n\u001b[1;32m   3402\u001b[0m         \u001b[38;5;241m.\u001b[39mdifference(coords\u001b[38;5;241m.\u001b[39mkeys())\n\u001b[1;32m   3403\u001b[0m     )\n\u001b[1;32m   3404\u001b[0m     indexers\u001b[38;5;241m.\u001b[39mupdate({d: \u001b[38;5;28mself\u001b[39m\u001b[38;5;241m.\u001b[39mvariables[d] \u001b[38;5;28;01mfor\u001b[39;00m d \u001b[38;5;129;01min\u001b[39;00m sdims})\n\u001b[0;32m-> 3406\u001b[0m obj \u001b[38;5;241m=\u001b[39m \u001b[38;5;28mself\u001b[39m \u001b[38;5;28;01mif\u001b[39;00m assume_sorted \u001b[38;5;28;01melse\u001b[39;00m \u001b[38;5;28mself\u001b[39m\u001b[38;5;241m.\u001b[39msortby([k \u001b[38;5;28;01mfor\u001b[39;00m k \u001b[38;5;129;01min\u001b[39;00m coords])\n\u001b[1;32m   3408\u001b[0m \u001b[38;5;28;01mdef\u001b[39;00m \u001b[38;5;21mmaybe_variable\u001b[39m(obj, k):\n\u001b[1;32m   3409\u001b[0m     \u001b[38;5;66;03m# workaround to get variable for dimension without coordinate.\u001b[39;00m\n\u001b[1;32m   3410\u001b[0m     \u001b[38;5;28;01mtry\u001b[39;00m:\n",
      "File \u001b[0;32m~/miniconda3/envs/nav/lib/python3.11/site-packages/xarray/core/dataset.py:7097\u001b[0m, in \u001b[0;36mDataset.sortby\u001b[0;34m(self, variables, ascending)\u001b[0m\n\u001b[1;32m   7095\u001b[0m     order \u001b[38;5;241m=\u001b[39m np\u001b[38;5;241m.\u001b[39mlexsort(\u001b[38;5;28mtuple\u001b[39m(\u001b[38;5;28mreversed\u001b[39m(arrays)))\n\u001b[1;32m   7096\u001b[0m     indices[key] \u001b[38;5;241m=\u001b[39m order \u001b[38;5;28;01mif\u001b[39;00m ascending \u001b[38;5;28;01melse\u001b[39;00m order[::\u001b[38;5;241m-\u001b[39m\u001b[38;5;241m1\u001b[39m]\n\u001b[0;32m-> 7097\u001b[0m \u001b[38;5;28;01mreturn\u001b[39;00m aligned_self\u001b[38;5;241m.\u001b[39misel(indices)\n",
      "File \u001b[0;32m~/miniconda3/envs/nav/lib/python3.11/site-packages/xarray/core/dataset.py:2526\u001b[0m, in \u001b[0;36mDataset.isel\u001b[0;34m(self, indexers, drop, missing_dims, **indexers_kwargs)\u001b[0m\n\u001b[1;32m   2524\u001b[0m var_indexers \u001b[38;5;241m=\u001b[39m {k: v \u001b[38;5;28;01mfor\u001b[39;00m k, v \u001b[38;5;129;01min\u001b[39;00m indexers\u001b[38;5;241m.\u001b[39mitems() \u001b[38;5;28;01mif\u001b[39;00m k \u001b[38;5;129;01min\u001b[39;00m var\u001b[38;5;241m.\u001b[39mdims}\n\u001b[1;32m   2525\u001b[0m \u001b[38;5;28;01mif\u001b[39;00m var_indexers:\n\u001b[0;32m-> 2526\u001b[0m     var \u001b[38;5;241m=\u001b[39m var\u001b[38;5;241m.\u001b[39misel(var_indexers)\n\u001b[1;32m   2527\u001b[0m     \u001b[38;5;28;01mif\u001b[39;00m drop \u001b[38;5;129;01mand\u001b[39;00m var\u001b[38;5;241m.\u001b[39mndim \u001b[38;5;241m==\u001b[39m \u001b[38;5;241m0\u001b[39m \u001b[38;5;129;01mand\u001b[39;00m name \u001b[38;5;129;01min\u001b[39;00m coord_names:\n\u001b[1;32m   2528\u001b[0m         coord_names\u001b[38;5;241m.\u001b[39mremove(name)\n",
      "File \u001b[0;32m~/miniconda3/envs/nav/lib/python3.11/site-packages/xarray/core/variable.py:1378\u001b[0m, in \u001b[0;36mVariable.isel\u001b[0;34m(self, indexers, missing_dims, **indexers_kwargs)\u001b[0m\n\u001b[1;32m   1375\u001b[0m indexers \u001b[38;5;241m=\u001b[39m drop_dims_from_indexers(indexers, \u001b[38;5;28mself\u001b[39m\u001b[38;5;241m.\u001b[39mdims, missing_dims)\n\u001b[1;32m   1377\u001b[0m key \u001b[38;5;241m=\u001b[39m \u001b[38;5;28mtuple\u001b[39m(indexers\u001b[38;5;241m.\u001b[39mget(dim, \u001b[38;5;28mslice\u001b[39m(\u001b[38;5;28;01mNone\u001b[39;00m)) \u001b[38;5;28;01mfor\u001b[39;00m dim \u001b[38;5;129;01min\u001b[39;00m \u001b[38;5;28mself\u001b[39m\u001b[38;5;241m.\u001b[39mdims)\n\u001b[0;32m-> 1378\u001b[0m \u001b[38;5;28;01mreturn\u001b[39;00m \u001b[38;5;28mself\u001b[39m[key]\n",
      "File \u001b[0;32m~/miniconda3/envs/nav/lib/python3.11/site-packages/xarray/core/variable.py:903\u001b[0m, in \u001b[0;36mVariable.__getitem__\u001b[0;34m(self, key)\u001b[0m\n\u001b[1;32m    901\u001b[0m \u001b[38;5;28;01mif\u001b[39;00m new_order:\n\u001b[1;32m    902\u001b[0m     data \u001b[38;5;241m=\u001b[39m np\u001b[38;5;241m.\u001b[39mmoveaxis(data, \u001b[38;5;28mrange\u001b[39m(\u001b[38;5;28mlen\u001b[39m(new_order)), new_order)\n\u001b[0;32m--> 903\u001b[0m \u001b[38;5;28;01mreturn\u001b[39;00m \u001b[38;5;28mself\u001b[39m\u001b[38;5;241m.\u001b[39m_finalize_indexing_result(dims, data)\n",
      "File \u001b[0;32m~/miniconda3/envs/nav/lib/python3.11/site-packages/xarray/core/variable.py:905\u001b[0m, in \u001b[0;36mVariable._finalize_indexing_result\u001b[0;34m(self, dims, data)\u001b[0m\n\u001b[1;32m    902\u001b[0m         data \u001b[38;5;241m=\u001b[39m np\u001b[38;5;241m.\u001b[39mmoveaxis(data, \u001b[38;5;28mrange\u001b[39m(\u001b[38;5;28mlen\u001b[39m(new_order)), new_order)\n\u001b[1;32m    903\u001b[0m     \u001b[38;5;28;01mreturn\u001b[39;00m \u001b[38;5;28mself\u001b[39m\u001b[38;5;241m.\u001b[39m_finalize_indexing_result(dims, data)\n\u001b[0;32m--> 905\u001b[0m \u001b[38;5;28;01mdef\u001b[39;00m \u001b[38;5;21m_finalize_indexing_result\u001b[39m(\u001b[38;5;28mself\u001b[39m: T_Variable, dims, data) \u001b[38;5;241m-\u001b[39m\u001b[38;5;241m>\u001b[39m T_Variable:\n\u001b[1;32m    906\u001b[0m \u001b[38;5;250m    \u001b[39m\u001b[38;5;124;03m\"\"\"Used by IndexVariable to return IndexVariable objects when possible.\"\"\"\u001b[39;00m\n\u001b[1;32m    907\u001b[0m     \u001b[38;5;28;01mreturn\u001b[39;00m \u001b[38;5;28mself\u001b[39m\u001b[38;5;241m.\u001b[39m_replace(dims\u001b[38;5;241m=\u001b[39mdims, data\u001b[38;5;241m=\u001b[39mdata)\n",
      "\u001b[0;31mKeyboardInterrupt\u001b[0m: "
     ]
    }
   ],
   "source": [
    "if not os.path.exists('.db/plots/estimate/'):\n",
    "    os.makedirs('.db/plots/estimate/')\n",
    "\n",
    "if not os.path.exists('.db/plots/errors/'):\n",
    "    os.makedirs('.db/plots/errors/')\n",
    "\n",
    "summary = None\n",
    "annotations = {\"recovery\": 1852, \"res\":1852/4}\n",
    "for table in tqdm(bathy_tables):\n",
    "    df = pdset.table_to_df(\".db/parsed.db\", table)\n",
    "    df = populate_velocities(df)\n",
    "    results, geo_map = process_particle_filter(df, config)\n",
    "    run = summarize_results(results, 1852)\n",
    "    run[\"Name\"] = table\n",
    "    pdset.save_dataset(\n",
    "        [results], [table], output_location=\".db\", output_format=\"db\", dataset_name=\"results\"\n",
    "    )\n",
    "    fig, ax = plot_estimate(geo_map, results)\n",
    "    fig.savefig(f\".db/plots/estimate/{table}_estimate.png\")\n",
    "    plt.close(fig)\n",
    "    fig, ax = plot_error(results, annotations=annotations)\n",
    "    fig.savefig(f\".db/plots/errors/{table}_error.png\")\n",
    "    plt.close(fig)"
   ]
  },
  {
   "cell_type": "code",
   "execution_count": null,
   "metadata": {},
   "outputs": [],
   "source": [
    "summary = None\n",
    "results_tables = pdset.get_tables(\".db/results.db\")\n",
    "for table in results_tables:\n",
    "    df = pdset.table_to_df(\".db/results.db\", table)\n",
    "    run = summarize_results(df, 1852)\n",
    "    run[\"Name\"] = table\n",
    "    if summary is None:\n",
    "        summary = run#.copy()\n",
    "    else:\n",
    "        summary = pd.concat([summary, run], ignore_index=True)\n",
    "    summary.to_csv(\".db/summary_recovery.csv\")"
   ]
  },
  {
   "cell_type": "code",
   "execution_count": null,
   "metadata": {},
   "outputs": [],
   "source": [
    "summary = None\n",
    "results_tables = pdset.get_tables(\".db/results.db\")\n",
    "for table in results_tables:\n",
    "    df = pdset.table_to_df(\".db/results.db\", table)\n",
    "    run = summarize_results(df, 452)\n",
    "    run[\"Name\"] = table\n",
    "    if summary is None:\n",
    "        summary = run#.copy()\n",
    "    else:\n",
    "        summary = pd.concat([summary, run], ignore_index=True)\n",
    "    summary.to_csv(\".db/summary_resolution.csv\")"
   ]
  },
  {
   "cell_type": "code",
   "execution_count": null,
   "metadata": {},
   "outputs": [],
   "source": []
  }
 ],
 "metadata": {
  "kernelspec": {
   "display_name": "nav",
   "language": "python",
   "name": "python3"
  },
  "language_info": {
   "codemirror_mode": {
    "name": "ipython",
    "version": 3
   },
   "file_extension": ".py",
   "mimetype": "text/x-python",
   "name": "python",
   "nbconvert_exporter": "python",
   "pygments_lexer": "ipython3",
   "version": "3.11.6"
  }
 },
 "nbformat": 4,
 "nbformat_minor": 2
}
