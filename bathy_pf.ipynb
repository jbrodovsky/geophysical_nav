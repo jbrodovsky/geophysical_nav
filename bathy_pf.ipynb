{
 "cells": [
  {
   "cell_type": "markdown",
   "metadata": {},
   "source": [
    "# Deep Water Bathymetric Particle Filter Experiment\n",
    "\n",
    "This notebook runs the experiment testing the capabilities of the particle filter to conduct navigation using deep water bathymetry and for long duration.\n",
    "\n",
    "## Data set preparation\n",
    "\n",
    "First need to process the .m77t files in `source_data` into our database format."
   ]
  },
  {
   "cell_type": "code",
   "execution_count": null,
   "metadata": {},
   "outputs": [],
   "source": [
    "from src import process_dataset as pdset\n",
    "import os\n",
    "import pandas as pd"
   ]
  },
  {
   "cell_type": "markdown",
   "metadata": {},
   "source": [
    "### Preprocess tracklines into sql/df format"
   ]
  },
  {
   "cell_type": "code",
   "execution_count": null,
   "metadata": {},
   "outputs": [],
   "source": [
    "# Check and see if the .db directory exists\n",
    "if not os.path.exists(\".db\"):\n",
    "    os.mkdir(\".db\")\n",
    "    \n",
    "# Check to see if the database exists\n",
    "if not os.path.exists('.db/tracklines.db'):\n",
    "    tables = []\n",
    "else:\n",
    "    tables = pdset.get_tables('.db/tracklines.db')\n",
    "\n",
    "source_data_location = \"./source_data/\"\n",
    "# walk through the .m77t files in the source_data directory\n",
    "for root, dirs, files in os.walk(source_data_location):\n",
    "    for file in files:\n",
    "        if file.endswith(\".m77t\"):\n",
    "            # check to see if the file has already been processed\n",
    "            filename = os.path.splitext(file)[0]\n",
    "            if filename not in tables:\n",
    "                print(\"Processing file: \" + file)\n",
    "                data = pd.read_csv(os.path.join(root, file), delimiter=\"\\t\", header=0)\n",
    "                data = pdset.m77t_to_df(data)\n",
    "                # data.to_sql(\n",
    "                #    filename, sqlite3.connect(\".db/tracklines.db\"), if_exists=\"replace\"\n",
    "                # )\n",
    "                pdset.save_dataset(\n",
    "                    [data],\n",
    "                    [filename],\n",
    "                    output_location=\".db\",\n",
    "                    output_format=\"db\",\n",
    "                    dataset_name=\"tracklines\",\n",
    "                )\n",
    "            else:\n",
    "                print(\"Skipping file: \" + file + \" (already processed)\")"
   ]
  },
  {
   "cell_type": "markdown",
   "metadata": {},
   "source": [
    "### Parse the raw data into tracklines of continuous data collections"
   ]
  },
  {
   "cell_type": "code",
   "execution_count": null,
   "metadata": {},
   "outputs": [],
   "source": [
    "max_time = 10 # minutes\n",
    "max_delta_t = 2 # minutes between points\n",
    "min_duration = 60 # minutes, minimum duration for a useful trackline\n",
    "\n",
    "data, names = pdset.parse_tracklines_from_db(\n",
    "    \".db/tracklines.db\",\n",
    "    #max_time,\n",
    "    #max_delta_t,\n",
    "    #min_duration,\n",
    "    data_types=[\n",
    "        \"bathy\",\n",
    "        \"mag\",\n",
    "        \"grav\",\n",
    "        [\"bathy\", \"mag\"],\n",
    "        [\"bathy\", \"grav\"],\n",
    "        [\"grav\", \"mag\"],\n",
    "        [\"bathy\", \"grav\", \"mag\"],\n",
    "    ],\n",
    ")\n",
    "# Save the parsed data to the database\n",
    "pdset.save_dataset(\n",
    "    data, names, output_location=\".db\", output_format=\"db\", dataset_name=\"parsed\"\n",
    ")\n",
    "#summary = pdset.get_parsed_data_summary(data, names)"
   ]
  },
  {
   "cell_type": "markdown",
   "metadata": {},
   "source": [
    "## Simulation parameters verification\n",
    "\n",
    "First we need to tune the particle filter propagation noise to be similar to that of a marine-grade inertial navigation system. A low-end marine-grade INS should have a drift of 1 nm per 24 hours."
   ]
  },
  {
   "cell_type": "code",
   "execution_count": null,
   "metadata": {},
   "outputs": [],
   "source": [
    "from src.particle_filter import rmse, propagate\n",
    "import numpy as np\n",
    "\n",
    "time = 24*60 # minutes\n",
    "noise = np.array([0, 2.6, 0])\n",
    "bound = 1852 # meters\n",
    "\n",
    "errors = []\n",
    "for v in range(1, 26):\n",
    "    P = np.asarray([[0,0,0,0,v,0]])\n",
    "    T = P.copy()\n",
    "    t = 0\n",
    "    for i in range(50000):\n",
    "        # Eastward\n",
    "        u = [0,v,0]\n",
    "        while t < time:    \n",
    "            P = propagate(P, u, noise=np.diag(noise), noise_calibration_mode=True)\n",
    "            T = propagate(T, u, noise=np.diag([0,0,0]), noise_calibration_mode=False)\n",
    "            t+=1\n",
    "        errors.append(rmse(P, T[0, :2]))\n",
    "        # Northward\n",
    "        u = [v,0,0]\n",
    "        while t < time:    \n",
    "            P = propagate(P, u, noise=np.diag(noise), noise_calibration_mode=True)\n",
    "            T = propagate(T, u, noise=np.diag([0,0,0]), noise_calibration_mode=False)\n",
    "            t+=1\n",
    "        errors.append(rmse(P, T[0, :2]))\n",
    "        # Northeastward \n",
    "        u = np.array([1,1,0]) / np.linalg.norm([1,1,0])\n",
    "        u *= v\n",
    "        while t < time:    \n",
    "            P = propagate(P, u, noise=np.diag(noise), noise_calibration_mode=True)\n",
    "            T = propagate(T, u, noise=np.diag([0,0,0]), noise_calibration_mode=False)\n",
    "            t+=1\n",
    "        errors.append(rmse(P, T[0, :2]))\n",
    "\n",
    "print(f\"RMSE: {np.mean(errors)}\")"
   ]
  },
  {
   "cell_type": "code",
   "execution_count": null,
   "metadata": {},
   "outputs": [],
   "source": [
    "from matplotlib import pyplot as plt\n",
    "\n",
    "if not os.path.exists(\".db/plots\"):\n",
    "    os.makedirs(\".db/plots\")\n",
    "\n",
    "plt.hist(errors, bins=15, density=True)\n",
    "plt.xlabel(\"RMSE (m)\")\n",
    "plt.ylabel(\"Frequency\")\n",
    "plt.title(\"RMSE of Particle Filter\")\n",
    "plt.savefig(\".db/plots/propagation_tuning.png\")\n",
    "plt.show()"
   ]
  },
  {
   "cell_type": "code",
   "execution_count": null,
   "metadata": {},
   "outputs": [],
   "source": [
    "config = {\"velocity_noise\": [noise[1], noise[1], 0]}"
   ]
  },
  {
   "cell_type": "markdown",
   "metadata": {},
   "source": [
    "Next we need to develop the measurement value standard deviation. We'll first do some general examination of the data. Namely, investigating the sensor measurements to see if we can build a reasonable sensor model."
   ]
  },
  {
   "cell_type": "code",
   "execution_count": null,
   "metadata": {},
   "outputs": [],
   "source": [
    "from src.gmt_tool import inflate_bounds, get_map_section, get_map_point\n",
    "import numpy as np\n",
    "\n",
    "tables = pdset.get_tables(\".db/parsed.db\")\n",
    "bathy_tables = [table for table in tables if \"_D_\" in table]\n",
    "\n",
    "d_bathy = np.array([])\n",
    "\n",
    "for table in bathy_tables:\n",
    "    data = pdset.table_to_df(\".db/parsed.db\", table)\n",
    "    min_lon = data.LON.min()\n",
    "    max_lon = data.LON.max()\n",
    "    min_lat = data.LAT.min()\n",
    "    max_lat = data.LAT.max()\n",
    "    min_lon, min_lat, max_lon, max_lat = inflate_bounds(min_lon, min_lat, max_lon, max_lat, 0.25)\n",
    "    bathy_map = get_map_section(min_lon, max_lon, min_lat, max_lat, 'relief', '15s', \"temp\")\n",
    "    d_bathy = np.hstack([d_bathy, data['DEPTH'] - (-get_map_point(bathy_map, data.LON, data.LAT))])\n",
    "\n",
    "config['bathy_mean_d'] = np.mean(d_bathy, where=~np.isnan(d_bathy))\n",
    "config['bathy_std'] = np.std(d_bathy, where=~np.isnan(d_bathy))\n",
    "\n",
    "plt.hist(d_bathy, bins=100, density=True)\n",
    "plt.xlim([-250,250])\n",
    "plt.xlabel(\"Depth Difference (m)\")\n",
    "plt.ylabel(\"Frequency\")\n",
    "plt.title(\"Bathymetry Difference\")\n",
    "plt.savefig(\".db/plots/bathy_diff.png\")\n",
    "plt.show()"
   ]
  },
  {
   "cell_type": "code",
   "execution_count": null,
   "metadata": {},
   "outputs": [],
   "source": [
    "config"
   ]
  },
  {
   "cell_type": "code",
   "execution_count": null,
   "metadata": {},
   "outputs": [],
   "source": [
    "import json\n",
    "\n",
    "with open(\"config.json\", \"w\") as f:\n",
    "    json.dump(config, f)"
   ]
  },
  {
   "cell_type": "markdown",
   "metadata": {},
   "source": [
    "### Populate with velocities"
   ]
  },
  {
   "cell_type": "code",
   "execution_count": null,
   "metadata": {},
   "outputs": [],
   "source": [
    "from src.particle_filter import process_particle_filter, populate_velocities, plot_error, plot_estimate, summarize_results\n",
    "import json\n",
    "import src.process_dataset as pdset\n",
    "from tqdm import tqdm\n",
    "import pandas as pd\n",
    "import os\n",
    "import matplotlib.pyplot as plt"
   ]
  },
  {
   "cell_type": "code",
   "execution_count": null,
   "metadata": {},
   "outputs": [],
   "source": [
    "tables = pdset.get_tables(\".db/parsed.db\")\n",
    "bathy_tables = [table for table in tables if \"_D_\" in table]\n",
    "config = json.load(open(\"config.json\", \"r\"))\n",
    "config[\"n\"] = 1000\n",
    "config[\"cov\"] = [1/60, 1/60, 0, config[\"velocity_noise\"][0], config[\"velocity_noise\"][1], 0]\n",
    "\n",
    "with open(\"config.json\", \"w\") as f:\n",
    "    json.dump(config, f)"
   ]
  },
  {
   "cell_type": "code",
   "execution_count": null,
   "metadata": {},
   "outputs": [],
   "source": [
    "config"
   ]
  },
  {
   "cell_type": "code",
   "execution_count": null,
   "metadata": {},
   "outputs": [],
   "source": [
    "df = pdset.table_to_df(\".db/parsed.db\", bathy_tables[3])"
   ]
  },
  {
   "cell_type": "code",
   "execution_count": null,
   "metadata": {},
   "outputs": [],
   "source": [
    "len(df)"
   ]
  },
  {
   "cell_type": "code",
   "execution_count": null,
   "metadata": {},
   "outputs": [],
   "source": [
    "if not os.path.exists('.db/plots2/estimate/'):\n",
    "    os.makedirs('.db/plots2/estimate/')\n",
    "\n",
    "if not os.path.exists('.db/plots2/errors/'):\n",
    "    os.makedirs('.db/plots2/errors/')\n",
    "\n",
    "summary = None\n",
    "annotations = {\"recovery\": 1852, \"res\":1852/4}\n",
    "# for table in tqdm(bathy_tables):\n",
    "#     print(f\"Running {table}\")\n",
    "#     df = pdset.table_to_df(\".db/parsed.db\", table)\n",
    "    \n",
    "df = populate_velocities(df)\n",
    "results, geo_map = process_particle_filter(df, config)\n",
    "print(\"Run complete! Saving results...\")\n",
    "pdset.save_dataset(\n",
    "    [results], [\"test\"], output_location=\".db\", output_format=\"db\", dataset_name=\"results\"\n",
    ")\n"
   ]
  },
  {
   "cell_type": "code",
   "execution_count": null,
   "metadata": {},
   "outputs": [],
   "source": [
    "print(\"Results saved! Plotting...\")\n",
    "fig, ax = plot_estimate(geo_map, results)\n",
    "fig.savefig(f\".db/plots2/estimate/test_estimate.png\")\n",
    "plt.close(fig)\n",
    "fig, ax = plot_error(results, annotations=annotations)\n",
    "fig.savefig(f\".db/plots2/errors/test_error.png\")\n",
    "plt.close(fig)"
   ]
  },
  {
   "cell_type": "code",
   "execution_count": null,
   "metadata": {},
   "outputs": [],
   "source": [
    "summary = None\n",
    "results_tables = pdset.get_tables(\".db/results.db\")\n",
    "for table in results_tables:\n",
    "    df = pdset.table_to_df(\".db/results.db\", table)\n",
    "    run = summarize_results(df, 1852)\n",
    "    run[\"Name\"] = table\n",
    "    if summary is None:\n",
    "        summary = run#.copy()\n",
    "    else:\n",
    "        summary = pd.concat([summary, run], ignore_index=True)\n",
    "    summary.to_csv(\".db/summary_recovery.csv\")"
   ]
  },
  {
   "cell_type": "code",
   "execution_count": null,
   "metadata": {},
   "outputs": [],
   "source": [
    "summary = None\n",
    "results_tables = pdset.get_tables(\".db/results.db\")\n",
    "for table in results_tables:\n",
    "    df = pdset.table_to_df(\".db/results.db\", table)\n",
    "    run = summarize_results(df, 452)\n",
    "    run[\"Name\"] = table\n",
    "    if summary is None:\n",
    "        summary = run#.copy()\n",
    "    else:\n",
    "        summary = pd.concat([summary, run], ignore_index=True)\n",
    "    summary.to_csv(\".db/summary_resolution.csv\")"
   ]
  },
  {
   "cell_type": "markdown",
   "metadata": {},
   "source": [
    "# Data Post Processing\n",
    "\n",
    "Use this section to load and post process the results data set"
   ]
  },
  {
   "cell_type": "code",
   "execution_count": 41,
   "metadata": {},
   "outputs": [],
   "source": [
    "import src.process_dataset as pdset\n",
    "import pandas as pd\n",
    "import matplotlib.pyplot as plt\n",
    "from src.particle_filter import summarize_results\n",
    "import os\n",
    "from datetime import timedelta"
   ]
  },
  {
   "cell_type": "code",
   "execution_count": 5,
   "metadata": {},
   "outputs": [
    {
     "data": {
      "text/plain": [
       "247"
      ]
     },
     "execution_count": 5,
     "metadata": {},
     "output_type": "execute_result"
    }
   ],
   "source": [
    "results_tables = pdset.get_tables(\".db/results.db\")\n",
    "len(results_tables)"
   ]
  },
  {
   "cell_type": "code",
   "execution_count": 6,
   "metadata": {},
   "outputs": [],
   "source": [
    "for table in results_tables:\n",
    "    table_df = pdset.table_to_df(\".db/results.db\", table)\n",
    "    summary = summarize_results(table, table_df, 1852)\n",
    "    summary.to_csv(\n",
    "        \".db/plots/summary.csv\",\n",
    "        mode=\"a\",\n",
    "        header=(not os.path.exists(\".db/plots/summary.csv\")),\n",
    "    )"
   ]
  },
  {
   "cell_type": "code",
   "execution_count": 7,
   "metadata": {},
   "outputs": [
    {
     "data": {
      "text/plain": [
       "834"
      ]
     },
     "execution_count": 7,
     "metadata": {},
     "output_type": "execute_result"
    }
   ],
   "source": [
    "summary = pd.read_csv(\".db/plots/summary.csv\", header=0, dtype={\"\": int, \"name\":str, \"start\": str, \"stop\": str, \"duration\":str, \"average_error\":float, \"max_error\":float, \"min_error\":float})\n",
    "summary[\"num\"] = summary[\"Unnamed: 0\"]\n",
    "summary = summary.drop(columns=[\"Unnamed: 0\"])\n",
    "#summary['start'] = pd.to_datetime(summary['start'], format=\"%Y-%m-%d %H:%M:%S%z\")\n",
    "#summary['end'] = pd.to_datetime(summary['end'], format=\"%Y-%m-%d %H:%M:%S%z\")\n",
    "summary['start'] = pd.to_timedelta(summary['start'])\n",
    "summary['end'] = pd.to_timedelta(summary['end'])\n",
    "summary['duration'] = pd.to_timedelta(summary['duration'])\n",
    "summary.head()\n",
    "\n",
    "len(summary)"
   ]
  },
  {
   "cell_type": "code",
   "execution_count": 8,
   "metadata": {},
   "outputs": [
    {
     "data": {
      "text/plain": [
       "606"
      ]
     },
     "execution_count": 8,
     "metadata": {},
     "output_type": "execute_result"
    }
   ],
   "source": [
    "recovery = summary.loc[summary[\"min error\"] > 452]\n",
    "len(recovery)"
   ]
  },
  {
   "cell_type": "code",
   "execution_count": 9,
   "metadata": {},
   "outputs": [
    {
     "name": "stdout",
     "output_type": "stream",
     "text": [
      "There are 247 total trajectories. We were able to recover at least one position fix below drift error in 189 (0.7652) trajectories.\n"
     ]
    }
   ],
   "source": [
    "# check to see if all the tables in results_tables are present in summary[\"name\"] and if not capture the missing tables\n",
    "missing = []\n",
    "for table in results_tables:\n",
    "    if table not in summary[\"name\"].values:\n",
    "        missing.append(table)\n",
    "\n",
    "total = len(results_tables)\n",
    "num_recoveries = total - len(missing)\n",
    "print(f\"There are {total} total trajectories. We were able to recover at least one position fix below drift error in {num_recoveries} ({num_recoveries / total :0.4f}) trajectories.\")"
   ]
  },
  {
   "cell_type": "code",
   "execution_count": 20,
   "metadata": {},
   "outputs": [
    {
     "name": "stdout",
     "output_type": "stream",
     "text": [
      "There are 228 total below pixel resolution fixes. We were able to recover at least one position fix below drift error in 75 (0.3036) trajectories.\n",
      "mean duration: 0 days 02:58:00.526315789 and median duration: 0 days 01:42:00\n",
      "mean error: 292.35901430634124 and median error: 284.7940571599156\n",
      "minium duration: 0 days 00:06:00 and maximum duration: 1 days 04:24:00\n",
      "minimum error: 61.216608610523686 and maximum error: 451.9352437259879\n",
      "mean start: 0 days 18:37:17.368421052 and median start: 0 days 05:42:30\n"
     ]
    }
   ],
   "source": [
    "pixel = summary.loc[summary[\"min error\"] <= 452]\n",
    "\n",
    "# check to see if the tables in pixel are present in summary[\"name\"] and if not capture the missing tables\n",
    "missing = []\n",
    "for table in results_tables:\n",
    "    if table not in pixel[\"name\"].values:\n",
    "        missing.append(table)\n",
    "below_pixel_fixes = len(pixel) - len(missing)\n",
    "\n",
    "print(f\"There are {len(pixel)} total below pixel resolution fixes. We were able to recover at least one position fix below drift error in {below_pixel_fixes} ({below_pixel_fixes/total :0.4f}) trajectories.\")\n",
    "print(f\"mean duration: {pixel['duration'].mean()} and median duration: {pixel['duration'].median()}\")\n",
    "print(f\"mean error: {pixel['min error'].mean()} and median error: {pixel['min error'].median()}\")\n",
    "print(f\"minium duration: {pixel['duration'].min()} and maximum duration: {pixel['duration'].max()}\")\n",
    "print(f\"minimum error: {pixel['min error'].min()} and maximum error: {pixel['min error'].max()}\")\n",
    "print(f\"mean start: {pixel['start'].mean()} and median start: {pixel['start'].median()}\")"
   ]
  },
  {
   "cell_type": "code",
   "execution_count": 36,
   "metadata": {},
   "outputs": [
    {
     "data": {
      "text/html": [
       "<div>\n",
       "<style scoped>\n",
       "    .dataframe tbody tr th:only-of-type {\n",
       "        vertical-align: middle;\n",
       "    }\n",
       "\n",
       "    .dataframe tbody tr th {\n",
       "        vertical-align: top;\n",
       "    }\n",
       "\n",
       "    .dataframe thead th {\n",
       "        text-align: right;\n",
       "    }\n",
       "</style>\n",
       "<table border=\"1\" class=\"dataframe\">\n",
       "  <thead>\n",
       "    <tr style=\"text-align: right;\">\n",
       "      <th></th>\n",
       "      <th>name</th>\n",
       "      <th>start</th>\n",
       "      <th>end</th>\n",
       "      <th>duration</th>\n",
       "      <th>average_error</th>\n",
       "      <th>min error</th>\n",
       "      <th>max error</th>\n",
       "      <th>num</th>\n",
       "    </tr>\n",
       "  </thead>\n",
       "  <tbody>\n",
       "    <tr>\n",
       "      <th>495</th>\n",
       "      <td>index17_D_24</td>\n",
       "      <td>2 days 05:50:00</td>\n",
       "      <td>2 days 06:58:00</td>\n",
       "      <td>0 days 01:08:00</td>\n",
       "      <td>622.251331</td>\n",
       "      <td>61.216609</td>\n",
       "      <td>1747.333128</td>\n",
       "      <td>2</td>\n",
       "    </tr>\n",
       "    <tr>\n",
       "      <th>705</th>\n",
       "      <td>ew0114_D_11</td>\n",
       "      <td>0 days 09:29:00</td>\n",
       "      <td>0 days 13:11:00</td>\n",
       "      <td>0 days 03:42:00</td>\n",
       "      <td>858.262958</td>\n",
       "      <td>78.277494</td>\n",
       "      <td>1789.011131</td>\n",
       "      <td>7</td>\n",
       "    </tr>\n",
       "    <tr>\n",
       "      <th>663</th>\n",
       "      <td>wi933014_D_4</td>\n",
       "      <td>3 days 01:26:00</td>\n",
       "      <td>4 days 05:50:00</td>\n",
       "      <td>1 days 04:24:00</td>\n",
       "      <td>524.449202</td>\n",
       "      <td>101.456949</td>\n",
       "      <td>1837.765265</td>\n",
       "      <td>17</td>\n",
       "    </tr>\n",
       "  </tbody>\n",
       "</table>\n",
       "</div>"
      ],
      "text/plain": [
       "             name           start             end        duration  \\\n",
       "495  index17_D_24 2 days 05:50:00 2 days 06:58:00 0 days 01:08:00   \n",
       "705   ew0114_D_11 0 days 09:29:00 0 days 13:11:00 0 days 03:42:00   \n",
       "663  wi933014_D_4 3 days 01:26:00 4 days 05:50:00 1 days 04:24:00   \n",
       "\n",
       "     average_error   min error    max error  num  \n",
       "495     622.251331   61.216609  1747.333128    2  \n",
       "705     858.262958   78.277494  1789.011131    7  \n",
       "663     524.449202  101.456949  1837.765265   17  "
      ]
     },
     "execution_count": 36,
     "metadata": {},
     "output_type": "execute_result"
    }
   ],
   "source": [
    "summary.sort_values(by=\"min error\").head(3)"
   ]
  },
  {
   "cell_type": "code",
   "execution_count": 35,
   "metadata": {},
   "outputs": [
    {
     "data": {
      "text/html": [
       "<div>\n",
       "<style scoped>\n",
       "    .dataframe tbody tr th:only-of-type {\n",
       "        vertical-align: middle;\n",
       "    }\n",
       "\n",
       "    .dataframe tbody tr th {\n",
       "        vertical-align: top;\n",
       "    }\n",
       "\n",
       "    .dataframe thead th {\n",
       "        text-align: right;\n",
       "    }\n",
       "</style>\n",
       "<table border=\"1\" class=\"dataframe\">\n",
       "  <thead>\n",
       "    <tr style=\"text-align: right;\">\n",
       "      <th></th>\n",
       "      <th>name</th>\n",
       "      <th>start</th>\n",
       "      <th>end</th>\n",
       "      <th>duration</th>\n",
       "      <th>average_error</th>\n",
       "      <th>min error</th>\n",
       "      <th>max error</th>\n",
       "      <th>num</th>\n",
       "    </tr>\n",
       "  </thead>\n",
       "  <tbody>\n",
       "    <tr>\n",
       "      <th>489</th>\n",
       "      <td>index17_D_21</td>\n",
       "      <td>0 days 00:01:00</td>\n",
       "      <td>0 days 20:02:00</td>\n",
       "      <td>0 days 20:01:00</td>\n",
       "      <td>1343.368793</td>\n",
       "      <td>1118.905119</td>\n",
       "      <td>1809.413179</td>\n",
       "      <td>0</td>\n",
       "    </tr>\n",
       "    <tr>\n",
       "      <th>368</th>\n",
       "      <td>index17_D_3</td>\n",
       "      <td>0 days 00:01:00</td>\n",
       "      <td>0 days 04:52:00</td>\n",
       "      <td>0 days 04:51:00</td>\n",
       "      <td>716.910056</td>\n",
       "      <td>375.996868</td>\n",
       "      <td>1394.561033</td>\n",
       "      <td>0</td>\n",
       "    </tr>\n",
       "    <tr>\n",
       "      <th>295</th>\n",
       "      <td>78123006_D_89</td>\n",
       "      <td>0 days 00:07:00</td>\n",
       "      <td>0 days 02:10:00</td>\n",
       "      <td>0 days 02:03:00</td>\n",
       "      <td>1034.328965</td>\n",
       "      <td>603.635294</td>\n",
       "      <td>1390.767323</td>\n",
       "      <td>0</td>\n",
       "    </tr>\n",
       "  </tbody>\n",
       "</table>\n",
       "</div>"
      ],
      "text/plain": [
       "              name           start             end        duration  \\\n",
       "489   index17_D_21 0 days 00:01:00 0 days 20:02:00 0 days 20:01:00   \n",
       "368    index17_D_3 0 days 00:01:00 0 days 04:52:00 0 days 04:51:00   \n",
       "295  78123006_D_89 0 days 00:07:00 0 days 02:10:00 0 days 02:03:00   \n",
       "\n",
       "     average_error    min error    max error  num  \n",
       "489    1343.368793  1118.905119  1809.413179    0  \n",
       "368     716.910056   375.996868  1394.561033    0  \n",
       "295    1034.328965   603.635294  1390.767323    0  "
      ]
     },
     "execution_count": 35,
     "metadata": {},
     "output_type": "execute_result"
    }
   ],
   "source": [
    "summary.sort_values(by=\"start\").head(3)"
   ]
  },
  {
   "cell_type": "code",
   "execution_count": 37,
   "metadata": {},
   "outputs": [
    {
     "data": {
      "text/html": [
       "<div>\n",
       "<style scoped>\n",
       "    .dataframe tbody tr th:only-of-type {\n",
       "        vertical-align: middle;\n",
       "    }\n",
       "\n",
       "    .dataframe tbody tr th {\n",
       "        vertical-align: top;\n",
       "    }\n",
       "\n",
       "    .dataframe thead th {\n",
       "        text-align: right;\n",
       "    }\n",
       "</style>\n",
       "<table border=\"1\" class=\"dataframe\">\n",
       "  <thead>\n",
       "    <tr style=\"text-align: right;\">\n",
       "      <th></th>\n",
       "      <th>name</th>\n",
       "      <th>start</th>\n",
       "      <th>end</th>\n",
       "      <th>duration</th>\n",
       "      <th>average_error</th>\n",
       "      <th>min error</th>\n",
       "      <th>max error</th>\n",
       "      <th>num</th>\n",
       "    </tr>\n",
       "  </thead>\n",
       "  <tbody>\n",
       "    <tr>\n",
       "      <th>633</th>\n",
       "      <td>wi933014_D_40</td>\n",
       "      <td>0 days 01:28:00</td>\n",
       "      <td>0 days 01:29:00</td>\n",
       "      <td>0 days 00:01:00</td>\n",
       "      <td>1795.937051</td>\n",
       "      <td>1795.937051</td>\n",
       "      <td>1795.937051</td>\n",
       "      <td>2</td>\n",
       "    </tr>\n",
       "    <tr>\n",
       "      <th>808</th>\n",
       "      <td>wi933014_D_2</td>\n",
       "      <td>2 days 06:21:00</td>\n",
       "      <td>2 days 06:22:00</td>\n",
       "      <td>0 days 00:01:00</td>\n",
       "      <td>1851.429489</td>\n",
       "      <td>1851.429489</td>\n",
       "      <td>1851.429489</td>\n",
       "      <td>34</td>\n",
       "    </tr>\n",
       "    <tr>\n",
       "      <th>343</th>\n",
       "      <td>78123006_D_99</td>\n",
       "      <td>0 days 04:32:00</td>\n",
       "      <td>0 days 04:33:00</td>\n",
       "      <td>0 days 00:01:00</td>\n",
       "      <td>1319.921074</td>\n",
       "      <td>1319.921074</td>\n",
       "      <td>1319.921074</td>\n",
       "      <td>5</td>\n",
       "    </tr>\n",
       "  </tbody>\n",
       "</table>\n",
       "</div>"
      ],
      "text/plain": [
       "              name           start             end        duration  \\\n",
       "633  wi933014_D_40 0 days 01:28:00 0 days 01:29:00 0 days 00:01:00   \n",
       "808   wi933014_D_2 2 days 06:21:00 2 days 06:22:00 0 days 00:01:00   \n",
       "343  78123006_D_99 0 days 04:32:00 0 days 04:33:00 0 days 00:01:00   \n",
       "\n",
       "     average_error    min error    max error  num  \n",
       "633    1795.937051  1795.937051  1795.937051    2  \n",
       "808    1851.429489  1851.429489  1851.429489   34  \n",
       "343    1319.921074  1319.921074  1319.921074    5  "
      ]
     },
     "execution_count": 37,
     "metadata": {},
     "output_type": "execute_result"
    }
   ],
   "source": [
    "summary.sort_values(by=\"duration\").head(3)"
   ]
  },
  {
   "cell_type": "code",
   "execution_count": 38,
   "metadata": {},
   "outputs": [
    {
     "data": {
      "text/html": [
       "<div>\n",
       "<style scoped>\n",
       "    .dataframe tbody tr th:only-of-type {\n",
       "        vertical-align: middle;\n",
       "    }\n",
       "\n",
       "    .dataframe tbody tr th {\n",
       "        vertical-align: top;\n",
       "    }\n",
       "\n",
       "    .dataframe thead th {\n",
       "        text-align: right;\n",
       "    }\n",
       "</style>\n",
       "<table border=\"1\" class=\"dataframe\">\n",
       "  <thead>\n",
       "    <tr style=\"text-align: right;\">\n",
       "      <th></th>\n",
       "      <th>name</th>\n",
       "      <th>start</th>\n",
       "      <th>end</th>\n",
       "      <th>duration</th>\n",
       "      <th>average_error</th>\n",
       "      <th>min error</th>\n",
       "      <th>max error</th>\n",
       "      <th>num</th>\n",
       "    </tr>\n",
       "  </thead>\n",
       "  <tbody>\n",
       "    <tr>\n",
       "      <th>485</th>\n",
       "      <td>ew0102_D_7</td>\n",
       "      <td>0 days 18:19:00</td>\n",
       "      <td>0 days 18:25:00</td>\n",
       "      <td>0 days 00:06:00</td>\n",
       "      <td>318.473064</td>\n",
       "      <td>234.463285</td>\n",
       "      <td>435.610345</td>\n",
       "      <td>21</td>\n",
       "    </tr>\n",
       "    <tr>\n",
       "      <th>763</th>\n",
       "      <td>ew0114_D_14</td>\n",
       "      <td>0 days 17:31:00</td>\n",
       "      <td>0 days 17:49:00</td>\n",
       "      <td>0 days 00:18:00</td>\n",
       "      <td>373.538106</td>\n",
       "      <td>241.040038</td>\n",
       "      <td>602.822923</td>\n",
       "      <td>17</td>\n",
       "    </tr>\n",
       "    <tr>\n",
       "      <th>47</th>\n",
       "      <td>wi933014_D_58</td>\n",
       "      <td>0 days 00:35:00</td>\n",
       "      <td>0 days 01:45:00</td>\n",
       "      <td>0 days 01:10:00</td>\n",
       "      <td>376.634907</td>\n",
       "      <td>162.525832</td>\n",
       "      <td>1368.393369</td>\n",
       "      <td>0</td>\n",
       "    </tr>\n",
       "  </tbody>\n",
       "</table>\n",
       "</div>"
      ],
      "text/plain": [
       "              name           start             end        duration  \\\n",
       "485     ew0102_D_7 0 days 18:19:00 0 days 18:25:00 0 days 00:06:00   \n",
       "763    ew0114_D_14 0 days 17:31:00 0 days 17:49:00 0 days 00:18:00   \n",
       "47   wi933014_D_58 0 days 00:35:00 0 days 01:45:00 0 days 01:10:00   \n",
       "\n",
       "     average_error   min error    max error  num  \n",
       "485     318.473064  234.463285   435.610345   21  \n",
       "763     373.538106  241.040038   602.822923   17  \n",
       "47      376.634907  162.525832  1368.393369    0  "
      ]
     },
     "execution_count": 38,
     "metadata": {},
     "output_type": "execute_result"
    }
   ],
   "source": [
    "summary.sort_values(by=\"average_error\").head(3)"
   ]
  },
  {
   "cell_type": "code",
   "execution_count": 43,
   "metadata": {},
   "outputs": [
    {
     "data": {
      "text/html": [
       "<div>\n",
       "<style scoped>\n",
       "    .dataframe tbody tr th:only-of-type {\n",
       "        vertical-align: middle;\n",
       "    }\n",
       "\n",
       "    .dataframe tbody tr th {\n",
       "        vertical-align: top;\n",
       "    }\n",
       "\n",
       "    .dataframe thead th {\n",
       "        text-align: right;\n",
       "    }\n",
       "</style>\n",
       "<table border=\"1\" class=\"dataframe\">\n",
       "  <thead>\n",
       "    <tr style=\"text-align: right;\">\n",
       "      <th></th>\n",
       "      <th>name</th>\n",
       "      <th>start</th>\n",
       "      <th>end</th>\n",
       "      <th>duration</th>\n",
       "      <th>average_error</th>\n",
       "      <th>min error</th>\n",
       "      <th>max error</th>\n",
       "      <th>num</th>\n",
       "    </tr>\n",
       "  </thead>\n",
       "  <tbody>\n",
       "    <tr>\n",
       "      <th>44</th>\n",
       "      <td>wi933014_D_67</td>\n",
       "      <td>0 days 00:10:00</td>\n",
       "      <td>0 days 01:24:00</td>\n",
       "      <td>0 days 01:14:00</td>\n",
       "      <td>548.896266</td>\n",
       "      <td>303.288242</td>\n",
       "      <td>1537.028573</td>\n",
       "      <td>0</td>\n",
       "    </tr>\n",
       "    <tr>\n",
       "      <th>132</th>\n",
       "      <td>ew0102_D_5</td>\n",
       "      <td>0 days 09:10:00</td>\n",
       "      <td>0 days 10:23:00</td>\n",
       "      <td>0 days 01:13:00</td>\n",
       "      <td>881.868665</td>\n",
       "      <td>257.672911</td>\n",
       "      <td>1825.170658</td>\n",
       "      <td>10</td>\n",
       "    </tr>\n",
       "    <tr>\n",
       "      <th>138</th>\n",
       "      <td>ew0102_D_5</td>\n",
       "      <td>0 days 13:59:00</td>\n",
       "      <td>0 days 15:12:00</td>\n",
       "      <td>0 days 01:13:00</td>\n",
       "      <td>962.407998</td>\n",
       "      <td>457.759753</td>\n",
       "      <td>1620.329396</td>\n",
       "      <td>16</td>\n",
       "    </tr>\n",
       "    <tr>\n",
       "      <th>154</th>\n",
       "      <td>78123006_D_14</td>\n",
       "      <td>0 days 07:55:00</td>\n",
       "      <td>0 days 09:09:00</td>\n",
       "      <td>0 days 01:14:00</td>\n",
       "      <td>1228.805338</td>\n",
       "      <td>904.518903</td>\n",
       "      <td>1821.616206</td>\n",
       "      <td>5</td>\n",
       "    </tr>\n",
       "    <tr>\n",
       "      <th>296</th>\n",
       "      <td>78123006_D_87</td>\n",
       "      <td>0 days 01:07:00</td>\n",
       "      <td>0 days 02:20:00</td>\n",
       "      <td>0 days 01:13:00</td>\n",
       "      <td>1150.613494</td>\n",
       "      <td>713.402585</td>\n",
       "      <td>1751.733174</td>\n",
       "      <td>0</td>\n",
       "    </tr>\n",
       "    <tr>\n",
       "      <th>400</th>\n",
       "      <td>index17_D_16</td>\n",
       "      <td>0 days 01:26:00</td>\n",
       "      <td>0 days 02:39:00</td>\n",
       "      <td>0 days 01:13:00</td>\n",
       "      <td>826.778716</td>\n",
       "      <td>329.396133</td>\n",
       "      <td>1749.686410</td>\n",
       "      <td>0</td>\n",
       "    </tr>\n",
       "    <tr>\n",
       "      <th>537</th>\n",
       "      <td>index17_D_24</td>\n",
       "      <td>6 days 19:13:00</td>\n",
       "      <td>6 days 20:26:00</td>\n",
       "      <td>0 days 01:13:00</td>\n",
       "      <td>1158.909023</td>\n",
       "      <td>581.759518</td>\n",
       "      <td>1846.972948</td>\n",
       "      <td>44</td>\n",
       "    </tr>\n",
       "  </tbody>\n",
       "</table>\n",
       "</div>"
      ],
      "text/plain": [
       "              name           start             end        duration  \\\n",
       "44   wi933014_D_67 0 days 00:10:00 0 days 01:24:00 0 days 01:14:00   \n",
       "132     ew0102_D_5 0 days 09:10:00 0 days 10:23:00 0 days 01:13:00   \n",
       "138     ew0102_D_5 0 days 13:59:00 0 days 15:12:00 0 days 01:13:00   \n",
       "154  78123006_D_14 0 days 07:55:00 0 days 09:09:00 0 days 01:14:00   \n",
       "296  78123006_D_87 0 days 01:07:00 0 days 02:20:00 0 days 01:13:00   \n",
       "400   index17_D_16 0 days 01:26:00 0 days 02:39:00 0 days 01:13:00   \n",
       "537   index17_D_24 6 days 19:13:00 6 days 20:26:00 0 days 01:13:00   \n",
       "\n",
       "     average_error   min error    max error  num  \n",
       "44      548.896266  303.288242  1537.028573    0  \n",
       "132     881.868665  257.672911  1825.170658   10  \n",
       "138     962.407998  457.759753  1620.329396   16  \n",
       "154    1228.805338  904.518903  1821.616206    5  \n",
       "296    1150.613494  713.402585  1751.733174    0  \n",
       "400     826.778716  329.396133  1749.686410    0  \n",
       "537    1158.909023  581.759518  1846.972948   44  "
      ]
     },
     "execution_count": 43,
     "metadata": {},
     "output_type": "execute_result"
    }
   ],
   "source": [
    "# Find the line in summary that has the closest to the mean duration\n",
    "summary.loc[abs(summary[\"duration\"] - summary[\"duration\"].mean()) <= timedelta(minutes=1)]"
   ]
  },
  {
   "cell_type": "code",
   "execution_count": 44,
   "metadata": {},
   "outputs": [
    {
     "data": {
      "text/plain": [
       "Timedelta('0 days 01:13:57.985611510')"
      ]
     },
     "execution_count": 44,
     "metadata": {},
     "output_type": "execute_result"
    }
   ],
   "source": [
    "summary[\"duration\"].mean()"
   ]
  },
  {
   "cell_type": "code",
   "execution_count": 15,
   "metadata": {},
   "outputs": [
    {
     "name": "stdout",
     "output_type": "stream",
     "text": [
      "On average we were able to recover a position fix with an mean duration of 0 days 01:13:57.985611510, median duration of 0 days 00:28:00 and a mean error of 1229.5081611263831 and median error 1260.5435978393161.\n",
      "Minimum duration 0 days 00:01:00 and maximum duration 1 days 04:24:00.\n",
      "Minimum error 318.47306422550645 and maximum error 1851.914764547153.\n"
     ]
    }
   ],
   "source": [
    "print(f\"On average we were able to recover a position fix with an mean duration of {summary['duration'].mean()}, median duration of {summary['duration'].median()} and a mean error of {summary['average_error'].mean()} and median error {summary['average_error'].median()}.\")\n",
    "\n",
    "print(f\"Minimum duration {summary['duration'].min()} and maximum duration {summary['duration'].max()}.\")\n",
    "print(f\"Minimum error {summary['average_error'].min()} and maximum error {summary['average_error'].max()}.\")"
   ]
  },
  {
   "cell_type": "code",
   "execution_count": 16,
   "metadata": {},
   "outputs": [
    {
     "name": "stdout",
     "output_type": "stream",
     "text": [
      "The first position recover occurs with a mean of 0 days 02:00:52.698412698 and median 0 days 00:51:00 after the start of the trajectory.\n",
      "with an mean duration of 0 days 01:57:46.031746031, median duration of 0 days 00:59:00 and a mean error of 1123.8220877382257 and median error 1125.1604285138226.\n",
      "Minimum duration 0 days 00:01:00 and maximum duration 1 days 00:34:00.\n",
      "Minimum error 376.63490730656713 and maximum error 1821.303947921932.\n"
     ]
    }
   ],
   "source": [
    "first = summary.loc[summary[\"num\"] == 0]\n",
    "#first.head()\n",
    "\n",
    "print(f\"The first position recover occurs with a mean of {first['start'].mean()} and median {first['start'].median()} after the start of the trajectory.\")\n",
    "print(f\"with an mean duration of {first['duration'].mean()}, median duration of {first['duration'].median()} and a mean error of {first['average_error'].mean()} and median error {first['average_error'].median()}.\")\n",
    "\n",
    "print(f\"Minimum duration {first['duration'].min()} and maximum duration {first['duration'].max()}.\")\n",
    "print(f\"Minimum error {first['average_error'].min()} and maximum error {first['average_error'].max()}.\")"
   ]
  },
  {
   "cell_type": "code",
   "execution_count": null,
   "metadata": {},
   "outputs": [],
   "source": []
  }
 ],
 "metadata": {
  "kernelspec": {
   "display_name": "nav",
   "language": "python",
   "name": "python3"
  },
  "language_info": {
   "codemirror_mode": {
    "name": "ipython",
    "version": 3
   },
   "file_extension": ".py",
   "mimetype": "text/x-python",
   "name": "python",
   "nbconvert_exporter": "python",
   "pygments_lexer": "ipython3",
   "version": "3.11.6"
  }
 },
 "nbformat": 4,
 "nbformat_minor": 2
}
