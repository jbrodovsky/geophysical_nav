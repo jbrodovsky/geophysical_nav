{
 "cells": [
  {
   "cell_type": "markdown",
   "metadata": {},
   "source": [
    "# Geophysical Navigation version 0.2.0\n",
    "\n",
    "## Data Clean up\n",
    "\n",
    "Switching over to a magnetic and gravity anomaly based navigation scheme. I have several recorded datasets from a cell phone stored under `/data`. This notebook is being used to clean up and sync that data."
   ]
  },
  {
   "cell_type": "code",
   "execution_count": 2,
   "metadata": {},
   "outputs": [],
   "source": [
    "import pandas as pd\n",
    "import os\n",
    "from matplotlib import pyplot as plt\n",
    "from cartopy import crs as ccrs\n",
    "from cartopy.io import img_tiles as cimgt\n",
    "\n",
    "\n",
    "base_dir = os.path.join(\"data\", \"raw\")"
   ]
  },
  {
   "cell_type": "code",
   "execution_count": 3,
   "metadata": {},
   "outputs": [],
   "source": [
    "def clean_phone_data(dataset_path: str) -> pd.DataFrame:\n",
    "    \"\"\"\n",
    "    Clean the sensor logger app data from the given dataset path.\n",
    "    \n",
    "    Parameters\n",
    "    ----------\n",
    "    dataset_path : str\n",
    "        Path to the dataset file.\n",
    "\n",
    "    Returns\n",
    "    -------\n",
    "    pd.DataFrame\n",
    "        Cleaned DataFrame with relevant columns.\n",
    "    \"\"\"\n",
    "    assert os.path.exists(dataset_path), f\"File {dataset_path} does not exist.\"\n",
    "    # Assert the needed .csv files exist\n",
    "    assert os.path.exists(os.path.join(dataset_path, \"Accelerometer.csv\")), \"Accelerometer.csv does not exist.\"\n",
    "    assert os.path.exists(os.path.join(dataset_path, \"Gyroscope.csv\")), \"Gyroscope.csv does not exist.\"\n",
    "    assert os.path.exists(os.path.join(dataset_path, \"Magnetometer.csv\")), \"Magnetometer.csv does not exist.\"\n",
    "    assert os.path.exists(os.path.join(dataset_path, \"Barometer.csv\")), \"Barometer.csv does not exist.\"\n",
    "    assert os.path.exists(os.path.join(dataset_path, \"Gravity.csv\")), \"Gravity.csv does not exist.\"\n",
    "    try:\n",
    "        assert os.path.exists(os.path.join(dataset_path, \"LocationGps.csv\")), \"LocationGps.csv does not exist.\"\n",
    "    except AssertionError:\n",
    "        assert os.path.exists(os.path.join(dataset_path, \"Location.csv\")), \"Location.csv does not exist.\"\n",
    "    assert os.path.exists(os.path.join(dataset_path, \"Orientation.csv\")), \"Orientation.csv does not exist.\"\n",
    "    # Read in raw data\n",
    "    accelerometer = pd.read_csv(os.path.join(dataset_path, \"Accelerometer.csv\"), index_col=0)\n",
    "    gyroscope = pd.read_csv(os.path.join(dataset_path,     \"Gyroscope.csv\"), index_col=0)\n",
    "    magnetometer = pd.read_csv(os.path.join(dataset_path,  \"Magnetometer.csv\"), index_col=0)\n",
    "    barometer = pd.read_csv(os.path.join(dataset_path,     \"Barometer.csv\"), index_col=0)\n",
    "    gravity = pd.read_csv(os.path.join(dataset_path,       \"Gravity.csv\"), index_col=0)\n",
    "    try:\n",
    "        location = pd.read_csv(os.path.join(dataset_path,      \"LocationGps.csv\"), index_col=0)\n",
    "    except FileNotFoundError:\n",
    "        location = pd.read_csv(os.path.join(dataset_path,      \"Location.csv\"), index_col=0)\n",
    "    orientation = pd.read_csv(os.path.join(dataset_path,   \"Orientation.csv\"), index_col=0)\n",
    "    # Convert index to datetime\n",
    "    accelerometer.index = pd.to_datetime(accelerometer.index, utc=True)\n",
    "    gyroscope.index = pd.to_datetime(gyroscope.index, utc=True)\n",
    "    magnetometer.index = pd.to_datetime(magnetometer.index, utc=True)\n",
    "    barometer.index = pd.to_datetime(barometer.index, utc=True)\n",
    "    gravity.index = pd.to_datetime(gravity.index, utc=True)\n",
    "    location.index = pd.to_datetime(location.index, utc=True)\n",
    "    orientation.index = pd.to_datetime(orientation.index, utc=True)\n",
    "    # Drop \"seconds_elapsed\" column\n",
    "    accelerometer.drop(columns=[\"seconds_elapsed\"], inplace=True)\n",
    "    gyroscope.drop(columns=[\"seconds_elapsed\"], inplace=True)\n",
    "    magnetometer.drop(columns=[\"seconds_elapsed\"], inplace=True)\n",
    "    barometer.drop(columns=[\"seconds_elapsed\"], inplace=True)\n",
    "    gravity.drop(columns=[\"seconds_elapsed\"], inplace=True)\n",
    "    location.drop(columns=[\"seconds_elapsed\"], inplace=True)\n",
    "    orientation.drop(columns=[\"seconds_elapsed\"], inplace=True)\n",
    "    # Rename columns\n",
    "    magnetometer = magnetometer.rename(columns={\"x\": \"mag_x\", \"y\": \"mag_y\", \"z\": \"mag_z\"})\n",
    "    accelerometer = accelerometer.rename(columns={\"x\": \"acc_x\", \"y\": \"acc_y\", \"z\": \"acc_z\"})\n",
    "    gyroscope = gyroscope.rename(columns={\"x\": \"gyro_x\", \"y\": \"gyro_y\", \"z\": \"gyro_z\"})\n",
    "    gravity = gravity.rename(columns={\"x\": \"grav_x\", \"y\": \"grav_y\", \"z\": \"grav_z\"})\n",
    "    # Merge dataframes\n",
    "    data = location.copy()\n",
    "    data = data.merge(orientation, left_index=True, right_index=True, how=\"outer\")\n",
    "    data = data.merge(accelerometer, left_index=True, right_index=True, how=\"outer\")\n",
    "    data = data.merge(gyroscope, left_index=True, right_index=True, how=\"outer\")\n",
    "    data = data.merge(magnetometer, left_index=True, right_index=True, how=\"outer\")\n",
    "    data = data.merge(barometer, left_index=True, right_index=True, how=\"outer\")\n",
    "    data = data.merge(gravity, left_index=True, right_index=True, how=\"outer\")\n",
    "    # Resample to 1Hz\n",
    "    data = data.resample(\"1s\").mean()\n",
    "    data = data.dropna()\n",
    "    return data   "
   ]
  },
  {
   "cell_type": "code",
   "execution_count": 7,
   "metadata": {},
   "outputs": [
    {
     "name": "stdout",
     "output_type": "stream",
     "text": [
      "Cleaned data for 2023-08-09_163741 saved.\n",
      "Cleaned data for 2023-08-04_214758 saved.\n",
      "Cleaned data for 2025-03-01_150426 saved.\n",
      "Cleaned data for 2024-06-20_165550 saved.\n",
      "Cleaned data for 2025-03-01_164639 saved.\n",
      "Cleaned data for 2023-08-06_144805 saved.\n",
      "Cleaned data for 2023-08-09_124742 saved.\n"
     ]
    }
   ],
   "source": [
    "datasets = os.listdir(base_dir)\n",
    "os.makedirs(os.path.join(\"data\", \"cleaned\"), exist_ok=True)\n",
    "for dataset in datasets:\n",
    "    dataset_path = os.path.join(base_dir, dataset)\n",
    "    if os.path.isdir(dataset_path):\n",
    "        cleaned_data = clean_phone_data(dataset_path)\n",
    "        cleaned_data.to_csv(os.path.join(\"data\", \"cleaned\", f\"{dataset}.csv\"))\n",
    "        print(f\"Cleaned data for {dataset} saved.\")\n",
    "    else:\n",
    "        print(f\"Skipping {dataset}, not a directory.\")\n",
    "\n",
    "    # Plot the route on a map\n",
    "    # Get bounds and inflate by 10%``\n",
    "    max_lat = cleaned_data[\"latitude\"].max() + 0.1\n",
    "    min_lat = cleaned_data[\"latitude\"].min() - 0.1\n",
    "    max_lon = cleaned_data[\"longitude\"].max() + 0.1\n",
    "    min_lon = cleaned_data[\"longitude\"].min() - 0.1\n",
    "    extent = [min_lon, max_lon, min_lat, max_lat]\n",
    "    request = cimgt.GoogleTiles()\n",
    "    ax = plt.axes(projection=request.crs)\n",
    "    ax.set_extent(extent)\n",
    "    ax.add_image(request, 10)\n",
    "    ax.scatter(cleaned_data[\"longitude\"], cleaned_data[\"latitude\"], 0.5, color=\"red\", transform=ccrs.PlateCarree())\n",
    "    #ax.set_title(f\"Route for {dataset}\")\n",
    "    plt.savefig(os.path.join(\"data\", \"cleaned\", f\"{dataset}_route.png\"), dpi=500)\n",
    "    plt.close()"
   ]
  },
  {
   "cell_type": "code",
   "execution_count": null,
   "metadata": {},
   "outputs": [],
   "source": []
  }
 ],
 "metadata": {
  "kernelspec": {
   "display_name": ".venv",
   "language": "python",
   "name": "python3"
  },
  "language_info": {
   "codemirror_mode": {
    "name": "ipython",
    "version": 3
   },
   "file_extension": ".py",
   "mimetype": "text/x-python",
   "name": "python",
   "nbconvert_exporter": "python",
   "pygments_lexer": "ipython3",
   "version": "3.13.2"
  }
 },
 "nbformat": 4,
 "nbformat_minor": 2
}
